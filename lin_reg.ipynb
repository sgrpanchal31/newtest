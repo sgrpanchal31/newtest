{
  "nbformat": 4,
  "nbformat_minor": 0,
  "metadata": {
    "colab": {
      "name": "lin_reg.ipynb",
      "version": "0.3.2",
      "provenance": []
    },
    "kernelspec": {
      "name": "python3",
      "display_name": "Python 3"
    }
  },
  "cells": [
    {
      "metadata": {
        "id": "Tmnjofzk3Bg3",
        "colab_type": "code",
        "colab": {}
      },
      "cell_type": "code",
      "source": [
        "%matplotlib inline"
      ],
      "execution_count": 0,
      "outputs": []
    },
    {
      "metadata": {
        "id": "ACg0yJc57_zs",
        "colab_type": "code",
        "colab": {}
      },
      "cell_type": "code",
      "source": [
        "import numpy as np\n",
        "from matplotlib import pyplot as plt\n"
      ],
      "execution_count": 0,
      "outputs": []
    },
    {
      "metadata": {
        "id": "I8PXpDiw9Ko9",
        "colab_type": "code",
        "colab": {}
      },
      "cell_type": "code",
      "source": [
        "data = [[3,   1.5, 1],\n",
        "        [2,   1,   0],\n",
        "        [4,   1.5, 1],\n",
        "        [3,   1,   0],\n",
        "        [3.5, .5,  1],\n",
        "        [2,   .5,  0],\n",
        "        [5.5,  1,  1],\n",
        "        [1,    1,  0]]\n",
        "\n",
        "mystery_flower = [4.5, 1]"
      ],
      "execution_count": 0,
      "outputs": []
    },
    {
      "metadata": {
        "id": "iQrduQHc3lI4",
        "colab_type": "code",
        "colab": {}
      },
      "cell_type": "code",
      "source": [
        "w1 = np.random.randn()\n",
        "w2 = np.random.randn()\n",
        "b = np.random.randn()"
      ],
      "execution_count": 0,
      "outputs": []
    },
    {
      "metadata": {
        "id": "Bmfwh0yf37R7",
        "colab_type": "code",
        "colab": {}
      },
      "cell_type": "code",
      "source": [
        "def sigmoid(x):\n",
        "  return 1/(1+np.exp(-x))\n",
        "\n",
        "def sigmoid_p(x):\n",
        "  return sigmoid(x)*(1-sigmoid(x))"
      ],
      "execution_count": 0,
      "outputs": []
    },
    {
      "metadata": {
        "id": "WyypV9x94S3e",
        "colab_type": "code",
        "colab": {
          "base_uri": "https://localhost:8080/",
          "height": 282
        },
        "outputId": "f7aa0304-fa2d-4053-82af-fa6338a245c6"
      },
      "cell_type": "code",
      "source": [
        "T = np.linspace(-5, 5, 100)\n",
        "Y = sigmoid(T)\n",
        "Y_p = sigmoid_p(T)\n",
        "plt.plot(T, Y, c=\"r\")\n",
        "plt.plot(T, Y_p, c=\"b\")"
      ],
      "execution_count": 18,
      "outputs": [
        {
          "output_type": "execute_result",
          "data": {
            "text/plain": [
              "[<matplotlib.lines.Line2D at 0x7f4433cff0f0>]"
            ]
          },
          "metadata": {
            "tags": []
          },
          "execution_count": 18
        },
        {
          "output_type": "display_data",
          "data": {
            "image/png": "[encoded data removed]",
            "text/plain": [
              "<matplotlib.figure.Figure at 0x7f4433cffa58>"
            ]
          },
          "metadata": {
            "tags": []
          }
        }
      ]
    },
    {
      "metadata": {
        "id": "X0jpuXW3DH4E",
        "colab_type": "code",
        "colab": {
          "base_uri": "https://localhost:8080/",
          "height": 265
        },
        "outputId": "eda8e55c-705d-4282-cbb7-38087703f1a8"
      },
      "cell_type": "code",
      "source": [
        "def vis_data():\n",
        "    plt.grid()\n",
        "\n",
        "    for i in range(len(data)):\n",
        "        c = 'r'\n",
        "        if data[i][2] == 0:\n",
        "            c = 'b'\n",
        "        plt.scatter([data[i][0]], [data[i][1]], c=c)\n",
        "\n",
        "    plt.scatter([mystery_flower[0]], [mystery_flower[1]], c='gray')\n",
        "\n",
        "vis_data()"
      ],
      "execution_count": 39,
      "outputs": [
        {
          "output_type": "display_data",
          "data": {
            "image/png": "[encoded data removed]",
            "text/plain": [
              "<matplotlib.figure.Figure at 0x7f443344df60>"
            ]
          },
          "metadata": {
            "tags": []
          }
        }
      ]
    },
    {
      "metadata": {
        "id": "PJOoKYEDCkxe",
        "colab_type": "code",
        "colab": {
          "base_uri": "https://localhost:8080/",
          "height": 282
        },
        "outputId": "94182e68-6b52-4128-c177-74c732454a9e"
      },
      "cell_type": "code",
      "source": [
        "learning_rate = 0.2\n",
        "costs = []\n",
        "\n",
        "\n",
        "for x in range(50000):\n",
        "  ri = np.random.randint(len(data))\n",
        "  point = data[ri]\n",
        "  \n",
        "  z = point[0]*w1 + point[1]*w2 + b\n",
        "  \n",
        "  pred = sigmoid(z)\n",
        "  \n",
        "  target = point[2]\n",
        "  cost = np.square(pred - target)\n",
        "\n",
        "  costs.append(cost)\n",
        "  \n",
        "  dcost_pred = 2*(pred - target)\n",
        "  dpred_dz = sigmoid_p(z)\n",
        "  dz_dw1 = point[0]\n",
        "  dz_dw2 = point[1]\n",
        "  dz_db = 1\n",
        "  \n",
        "  dcost_dw1 = dcost_pred*dpred_dz*dz_dw1\n",
        "  dcost_dw2 = dcost_pred*dpred_dz*dz_dw2\n",
        "  dcost_db = dcost_pred*dpred_dz*dz_db\n",
        "  \n",
        "  w1 -= learning_rate*dcost_dw1\n",
        "  w2 -= learning_rate*dcost_dw2\n",
        "  b -= learning_rate*dcost_db\n",
        "  \n",
        "plt.plot(costs)"
      ],
      "execution_count": 36,
      "outputs": [
        {
          "output_type": "execute_result",
          "data": {
            "text/plain": [
              "[<matplotlib.lines.Line2D at 0x7f44338692e8>]"
            ]
          },
          "metadata": {
            "tags": []
          },
          "execution_count": 36
        },
        {
          "output_type": "display_data",
          "data": {
            "image/png": "[encoded data removed]",
            "text/plain": [
              "<matplotlib.figure.Figure at 0x7f443395de80>"
            ]
          },
          "metadata": {
            "tags": []
          }
        }
      ]
    },
    {
      "metadata": {
        "id": "jsbyEfIRH8et",
        "colab_type": "code",
        "colab": {
          "base_uri": "https://localhost:8080/",
          "height": 51
        },
        "outputId": "c9180fe8-7966-4ec1-ed71-3a2f9f10f56b"
      },
      "cell_type": "code",
      "source": [
        "# predict what the myster flower is!\n",
        "\n",
        "z = w1 * mystery_flower[0] + w2 * mystery_flower[1] + b\n",
        "pred = sigmoid(z)\n",
        "\n",
        "print(pred)\n",
        "print(\"close to 0 -> blue, close to 1 -> red\")"
      ],
      "execution_count": 37,
      "outputs": [
        {
          "output_type": "stream",
          "text": [
            "0.9999999999113331\n",
            "close to 0 -> blue, close to 1 -> red\n"
          ],
          "name": "stdout"
        }
      ]
    },
    {
      "metadata": {
        "id": "0nOkUn4SKaEg",
        "colab_type": "code",
        "colab": {
          "base_uri": "https://localhost:8080/",
          "height": 265
        },
        "outputId": "d9b1f884-3ed4-4f32-d826-8d8326c5a21e"
      },
      "cell_type": "code",
      "source": [
        "for x in np.linspace(0, 6, 20):\n",
        "    for y in np.linspace(0, 3, 20):\n",
        "        pred = sigmoid(w1 * x + w2 * y + b)\n",
        "        c = 'b'\n",
        "        if pred > .5:\n",
        "            c = 'r'\n",
        "        plt.scatter([x],[y],c=c, alpha=.2)\n",
        "        \n",
        "# plot points over network predictions\n",
        "# you should see a split, with half the predictions blue\n",
        "# and the other half red.. nicely predicting each data point!\n",
        "vis_data()"
      ],
      "execution_count": 40,
      "outputs": [
        {
          "output_type": "display_data",
          "data": {
            "image/png": "[encoded data removed]",
            "text/plain": [
              "<matplotlib.figure.Figure at 0x7f4433497e10>"
            ]
          },
          "metadata": {
            "tags": []
          }
        }
      ]
    },
    {
      "metadata": {
        "id": "03Dqorf7LFg7",
        "colab_type": "code",
        "colab": {}
      },
      "cell_type": "code",
      "source": [
        "import os\n"
      ],
      "execution_count": 0,
      "outputs": []
    },
    {
      "metadata": {
        "id": "7G6GhJnQLHML",
        "colab_type": "code",
        "colab": {}
      },
      "cell_type": "code",
      "source": [
        "def which_flower(l, w):\n",
        "  z = w1 * l + w2 * w + b\n",
        "  pred = sigmoid(z)\n",
        "  \n",
        "  if pred<0.5:\n",
        "    os.system(\"say blue\")\n",
        "    print('blue')\n",
        "  else:\n",
        "    os.system(\"say red\")\n",
        "    print('red')\n",
        "    "
      ],
      "execution_count": 0,
      "outputs": []
    },
    {
      "metadata": {
        "id": "v_PbnULzLv17",
        "colab_type": "code",
        "colab": {
          "base_uri": "https://localhost:8080/",
          "height": 34
        },
        "outputId": "919cb0c3-aeb5-4819-b76f-7f2ae61d36b5"
      },
      "cell_type": "code",
      "source": [
        "which_flower(np.pi/2, np.pi/2)"
      ],
      "execution_count": 55,
      "outputs": [
        {
          "output_type": "stream",
          "text": [
            "blue\n"
          ],
          "name": "stdout"
        }
      ]
    }
  ]
}
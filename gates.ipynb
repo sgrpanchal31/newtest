{
  "nbformat": 4,
  "nbformat_minor": 0,
  "metadata": {
    "colab": {
      "name": "Untitled7.ipynb",
      "version": "0.3.2",
      "provenance": []
    },
    "kernelspec": {
      "name": "python3",
      "display_name": "Python 3"
    }
  },
  "cells": [
    {
      "metadata": {
        "id": "l86l-ob_PQxa",
        "colab_type": "code",
        "colab": {}
      },
      "cell_type": "code",
      "source": [
        "import keras"
      ],
      "execution_count": 0,
      "outputs": []
    },
    {
      "metadata": {
        "id": "rnw33LJVPSX3",
        "colab_type": "code",
        "colab": {}
      },
      "cell_type": "code",
      "source": [
        "import numpy as np"
      ],
      "execution_count": 0,
      "outputs": []
    },
    {
      "metadata": {
        "id": "R8_cL5CJPZtn",
        "colab_type": "code",
        "colab": {}
      },
      "cell_type": "code",
      "source": [
        "data_in = np.array([[0, 0],[0, 1],[1,0],[1, 1]])"
      ],
      "execution_count": 0,
      "outputs": []
    },
    {
      "metadata": {
        "id": "AjmR7T8hPvWO",
        "colab_type": "code",
        "colab": {
          "base_uri": "https://localhost:8080/",
          "height": 85
        },
        "outputId": "44691cd5-5ed8-4b14-b994-69b33e7c7acc"
      },
      "cell_type": "code",
      "source": [
        "data_in"
      ],
      "execution_count": 5,
      "outputs": [
        {
          "output_type": "execute_result",
          "data": {
            "text/plain": [
              "array([[0, 0],\n",
              "       [0, 1],\n",
              "       [1, 0],\n",
              "       [1, 1]])"
            ]
          },
          "metadata": {
            "tags": []
          },
          "execution_count": 5
        }
      ]
    },
    {
      "metadata": {
        "id": "nW-7ENa9Pwrl",
        "colab_type": "code",
        "colab": {}
      },
      "cell_type": "code",
      "source": [
        "logic_and = np.array([[0], [0], [0], [1]])\n",
        "logic_or = np.array([[0], [1], [1], [1]])\n",
        "logic_xor = np.array([[0], [1], [1], [0]])"
      ],
      "execution_count": 0,
      "outputs": []
    },
    {
      "metadata": {
        "id": "erscoRVUUHx9",
        "colab_type": "code",
        "colab": {}
      },
      "cell_type": "code",
      "source": [
        "model = keras.models.Sequential(layers = [\n",
        "    keras.layers.Dense(input_dim=2, units=2),\n",
        "    keras.layers.Activation(keras.activations.sigmoid),\n",
        "    keras.layers.Dense(units=1),\n",
        "    keras.layers.Activation(keras.activations.sigmoid)\n",
        "])\n",
        "model.compile(optimizer=keras.optimizers.SGD(lr=0.5), loss='binary_crossentropy')"
      ],
      "execution_count": 0,
      "outputs": []
    },
    {
      "metadata": {
        "id": "ull1xWFNWIxf",
        "colab_type": "code",
        "colab": {
          "base_uri": "https://localhost:8080/",
          "height": 34
        },
        "outputId": "b4bf9298-8d31-45e3-e86a-540bee75291a"
      },
      "cell_type": "code",
      "source": [
        "keras.backend.eval(model.weights[1])"
      ],
      "execution_count": 72,
      "outputs": [
        {
          "output_type": "execute_result",
          "data": {
            "text/plain": [
              "array([-1.6949478, -6.3802495], dtype=float32)"
            ]
          },
          "metadata": {
            "tags": []
          },
          "execution_count": 72
        }
      ]
    },
    {
      "metadata": {
        "id": "vIx1h0tcWMUn",
        "colab_type": "code",
        "colab": {
          "base_uri": "https://localhost:8080/",
          "height": 34
        },
        "outputId": "94be1b18-5ae5-4a0d-e88c-7db41be5115e"
      },
      "cell_type": "code",
      "source": [
        " model.fit(data_in, logic_xor, epochs=10000, verbose=False)\n",
        "  "
      ],
      "execution_count": 73,
      "outputs": [
        {
          "output_type": "execute_result",
          "data": {
            "text/plain": [
              "<keras.callbacks.History at 0x7f23853acf98>"
            ]
          },
          "metadata": {
            "tags": []
          },
          "execution_count": 73
        }
      ]
    },
    {
      "metadata": {
        "id": "9t7T0-zTYJia",
        "colab_type": "code",
        "colab": {
          "base_uri": "https://localhost:8080/",
          "height": 34
        },
        "outputId": "0178aee7-1808-4f8b-e678-de73db936a16"
      },
      "cell_type": "code",
      "source": [
        "model.predict(np.array([[0,1]]))"
      ],
      "execution_count": 75,
      "outputs": [
        {
          "output_type": "execute_result",
          "data": {
            "text/plain": [
              "array([[0.9986829]], dtype=float32)"
            ]
          },
          "metadata": {
            "tags": []
          },
          "execution_count": 75
        }
      ]
    }
  ]
}
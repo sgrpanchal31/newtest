{
  "nbformat": 4,
  "nbformat_minor": 0,
  "metadata": {
    "colab": {
      "name": "sonar.ipynb",
      "version": "0.3.2",
      "provenance": []
    },
    "kernelspec": {
      "name": "python3",
      "display_name": "Python 3"
    },
    "accelerator": "GPU"
  },
  "cells": [
    {
      "cell_type": "markdown",
      "metadata": {
        "id": "view-in-github",
        "colab_type": "text"
      },
      "source": [
        "[View in Colaboratory](https://colab.research.google.com/github/sgrpanchal31/newtest/blob/master/sonar.ipynb)"
      ]
    },
    {
      "metadata": {
        "id": "Anb79dfy_k2L",
        "colab_type": "code",
        "colab": {}
      },
      "cell_type": "code",
      "source": [
        "%matplotlib inline"
      ],
      "execution_count": 0,
      "outputs": []
    },
    {
      "metadata": {
        "id": "Alr6jlV3x4rU",
        "colab_type": "code",
        "colab": {
          "resources": {
            "http://localhost:8080/nbextensions/google.colab/files.js": {
              "data": "Ly8gQ29weXJpZ2h0IDIwMTcgR29vZ2xlIExMQwovLwovLyBMaWNlbnNlZCB1bmRlciB0aGUgQXBhY2hlIExpY2Vuc2UsIFZlcnNpb24gMi4wICh0aGUgIkxpY2Vuc2UiKTsKLy8geW91IG1heSBub3QgdXNlIHRoaXMgZmlsZSBleGNlcHQgaW4gY29tcGxpYW5jZSB3aXRoIHRoZSBMaWNlbnNlLgovLyBZb3UgbWF5IG9idGFpbiBhIGNvcHkgb2YgdGhlIExpY2Vuc2UgYXQKLy8KLy8gICAgICBodHRwOi8vd3d3LmFwYWNoZS5vcmcvbGljZW5zZXMvTElDRU5TRS0yLjAKLy8KLy8gVW5sZXNzIHJlcXVpcmVkIGJ5IGFwcGxpY2FibGUgbGF3IG9yIGFncmVlZCB0byBpbiB3cml0aW5nLCBzb2Z0d2FyZQovLyBkaXN0cmlidXRlZCB1bmRlciB0aGUgTGljZW5zZSBpcyBkaXN0cmlidXRlZCBvbiBhbiAiQVMgSVMiIEJBU0lTLAovLyBXSVRIT1VUIFdBUlJBTlRJRVMgT1IgQ09ORElUSU9OUyBPRiBBTlkgS0lORCwgZWl0aGVyIGV4cHJlc3Mgb3IgaW1wbGllZC4KLy8gU2VlIHRoZSBMaWNlbnNlIGZvciB0aGUgc3BlY2lmaWMgbGFuZ3VhZ2UgZ292ZXJuaW5nIHBlcm1pc3Npb25zIGFuZAovLyBsaW1pdGF0aW9ucyB1bmRlciB0aGUgTGljZW5zZS4KCi8qKgogKiBAZmlsZW92ZXJ2aWV3IEhlbHBlcnMgZm9yIGdvb2dsZS5jb2xhYiBQeXRob24gbW9kdWxlLgogKi8KKGZ1bmN0aW9uKHNjb3BlKSB7CmZ1bmN0aW9uIHNwYW4odGV4dCwgc3R5bGVBdHRyaWJ1dGVzID0ge30pIHsKICBjb25zdCBlbGVtZW50ID0gZG9jdW1lbnQuY3JlYXRlRWxlbWVudCgnc3BhbicpOwogIGVsZW1lbnQudGV4dENvbnRlbnQgPSB0ZXh0OwogIGZvciAoY29uc3Qga2V5IG9mIE9iamVjdC5rZXlzKHN0eWxlQXR0cmlidXRlcykpIHsKICAgIGVsZW1lbnQuc3R5bGVba2V5XSA9IHN0eWxlQXR0cmlidXRlc1trZXldOwogIH0KICByZXR1cm4gZWxlbWVudDsKfQoKLy8gTWF4IG51bWJlciBvZiBieXRlcyB3aGljaCB3aWxsIGJlIHVwbG9hZGVkIGF0IGEgdGltZS4KY29uc3QgTUFYX1BBWUxPQURfU0laRSA9IDEwMCAqIDEwMjQ7Ci8vIE1heCBhbW91bnQgb2YgdGltZSB0byBibG9jayB3YWl0aW5nIGZvciB0aGUgdXNlci4KY29uc3QgRklMRV9DSEFOR0VfVElNRU9VVF9NUyA9IDMwICogMTAwMDsKCmZ1bmN0aW9uIF91cGxvYWRGaWxlcyhpbnB1dElkLCBvdXRwdXRJZCkgewogIGNvbnN0IHN0ZXBzID0gdXBsb2FkRmlsZXNTdGVwKGlucHV0SWQsIG91dHB1dElkKTsKICBjb25zdCBvdXRwdXRFbGVtZW50ID0gZG9jdW1lbnQuZ2V0RWxlbWVudEJ5SWQob3V0cHV0SWQpOwogIC8vIENhY2hlIHN0ZXBzIG9uIHRoZSBvdXRwdXRFbGVtZW50IHRvIG1ha2UgaXQgYXZhaWxhYmxlIGZvciB0aGUgbmV4dCBjYWxsCiAgLy8gdG8gdXBsb2FkRmlsZXNDb250aW51ZSBmcm9tIFB5dGhvbi4KICBvdXRwdXRFbGVtZW50LnN0ZXBzID0gc3RlcHM7CgogIHJldHVybiBfdXBsb2FkRmlsZXNDb250aW51ZShvdXRwdXRJZCk7Cn0KCi8vIFRoaXMgaXMgcm91Z2hseSBhbiBhc3luYyBnZW5lcmF0b3IgKG5vdCBzdXBwb3J0ZWQgaW4gdGhlIGJyb3dzZXIgeWV0KSwKLy8gd2hlcmUgdGhlcmUgYXJlIG11bHRpcGxlIGFzeW5jaHJvbm91cyBzdGVwcyBhbmQgdGhlIFB5dGhvbiBzaWRlIGlzIGdvaW5nCi8vIHRvIHBvbGwgZm9yIGNvbXBsZXRpb24gb2YgZWFjaCBzdGVwLgovLyBUaGlzIHVzZXMgYSBQcm9taXNlIHRvIGJsb2NrIHRoZSBweXRob24gc2lkZSBvbiBjb21wbGV0aW9uIG9mIGVhY2ggc3RlcCwKLy8gdGhlbiBwYXNzZXMgdGhlIHJlc3VsdCBvZiB0aGUgcHJldmlvdXMgc3RlcCBhcyB0aGUgaW5wdXQgdG8gdGhlIG5leHQgc3RlcC4KZnVuY3Rpb24gX3VwbG9hZEZpbGVzQ29udGludWUob3V0cHV0SWQpIHsKICBjb25zdCBvdXRwdXRFbGVtZW50ID0gZG9jdW1lbnQuZ2V0RWxlbWVudEJ5SWQob3V0cHV0SWQpOwogIGNvbnN0IHN0ZXBzID0gb3V0cHV0RWxlbWVudC5zdGVwczsKCiAgY29uc3QgbmV4dCA9IHN0ZXBzLm5leHQob3V0cHV0RWxlbWVudC5sYXN0UHJvbWlzZVZhbHVlKTsKICByZXR1cm4gUHJvbWlzZS5yZXNvbHZlKG5leHQudmFsdWUucHJvbWlzZSkudGhlbigodmFsdWUpID0+IHsKICAgIC8vIENhY2hlIHRoZSBsYXN0IHByb21pc2UgdmFsdWUgdG8gbWFrZSBpdCBhdmFpbGFibGUgdG8gdGhlIG5leHQKICAgIC8vIHN0ZXAgb2YgdGhlIGdlbmVyYXRvci4KICAgIG91dHB1dEVsZW1lbnQubGFzdFByb21pc2VWYWx1ZSA9IHZhbHVlOwogICAgcmV0dXJuIG5leHQudmFsdWUucmVzcG9uc2U7CiAgfSk7Cn0KCi8qKgogKiBHZW5lcmF0b3IgZnVuY3Rpb24gd2hpY2ggaXMgY2FsbGVkIGJldHdlZW4gZWFjaCBhc3luYyBzdGVwIG9mIHRoZSB1cGxvYWQKICogcHJvY2Vzcy4KICogQHBhcmFtIHtzdHJpbmd9IGlucHV0SWQgRWxlbWVudCBJRCBvZiB0aGUgaW5wdXQgZmlsZSBwaWNrZXIgZWxlbWVudC4KICogQHBhcmFtIHtzdHJpbmd9IG91dHB1dElkIEVsZW1lbnQgSUQgb2YgdGhlIG91dHB1dCBkaXNwbGF5LgogKiBAcmV0dXJuIHshSXRlcmFibGU8IU9iamVjdD59IEl0ZXJhYmxlIG9mIG5leHQgc3RlcHMuCiAqLwpmdW5jdGlvbiogdXBsb2FkRmlsZXNTdGVwKGlucHV0SWQsIG91dHB1dElkKSB7CiAgY29uc3QgaW5wdXRFbGVtZW50ID0gZG9jdW1lbnQuZ2V0RWxlbWVudEJ5SWQoaW5wdXRJZCk7CiAgaW5wdXRFbGVtZW50LmRpc2FibGVkID0gZmFsc2U7CgogIGNvbnN0IG91dHB1dEVsZW1lbnQgPSBkb2N1bWVudC5nZXRFbGVtZW50QnlJZChvdXRwdXRJZCk7CiAgb3V0cHV0RWxlbWVudC5pbm5lckhUTUwgPSAnJzsKCiAgY29uc3QgcGlja2VkUHJvbWlzZSA9IG5ldyBQcm9taXNlKChyZXNvbHZlKSA9PiB7CiAgICBpbnB1dEVsZW1lbnQuYWRkRXZlbnRMaXN0ZW5lcignY2hhbmdlJywgKGUpID0+IHsKICAgICAgcmVzb2x2ZShlLnRhcmdldC5maWxlcyk7CiAgICB9KTsKICB9KTsKCiAgY29uc3QgY2FuY2VsID0gZG9jdW1lbnQuY3JlYXRlRWxlbWVudCgnYnV0dG9uJyk7CiAgaW5wdXRFbGVtZW50LnBhcmVudEVsZW1lbnQuYXBwZW5kQ2hpbGQoY2FuY2VsKTsKICBjYW5jZWwudGV4dENvbnRlbnQgPSAnQ2FuY2VsIHVwbG9hZCc7CiAgY29uc3QgY2FuY2VsUHJvbWlzZSA9IG5ldyBQcm9taXNlKChyZXNvbHZlKSA9PiB7CiAgICBjYW5jZWwub25jbGljayA9ICgpID0+IHsKICAgICAgcmVzb2x2ZShudWxsKTsKICAgIH07CiAgfSk7CgogIC8vIENhbmNlbCB1cGxvYWQgaWYgdXNlciBoYXNuJ3QgcGlja2VkIGFueXRoaW5nIGluIHRpbWVvdXQuCiAgY29uc3QgdGltZW91dFByb21pc2UgPSBuZXcgUHJvbWlzZSgocmVzb2x2ZSkgPT4gewogICAgc2V0VGltZW91dCgoKSA9PiB7CiAgICAgIHJlc29sdmUobnVsbCk7CiAgICB9LCBGSUxFX0NIQU5HRV9USU1FT1VUX01TKTsKICB9KTsKCiAgLy8gV2FpdCBmb3IgdGhlIHVzZXIgdG8gcGljayB0aGUgZmlsZXMuCiAgY29uc3QgZmlsZXMgPSB5aWVsZCB7CiAgICBwcm9taXNlOiBQcm9taXNlLnJhY2UoW3BpY2tlZFByb21pc2UsIHRpbWVvdXRQcm9taXNlLCBjYW5jZWxQcm9taXNlXSksCiAgICByZXNwb25zZTogewogICAgICBhY3Rpb246ICdzdGFydGluZycsCiAgICB9CiAgfTsKCiAgaWYgKCFmaWxlcykgewogICAgcmV0dXJuIHsKICAgICAgcmVzcG9uc2U6IHsKICAgICAgICBhY3Rpb246ICdjb21wbGV0ZScsCiAgICAgIH0KICAgIH07CiAgfQoKICBjYW5jZWwucmVtb3ZlKCk7CgogIC8vIERpc2FibGUgdGhlIGlucHV0IGVsZW1lbnQgc2luY2UgZnVydGhlciBwaWNrcyBhcmUgbm90IGFsbG93ZWQuCiAgaW5wdXRFbGVtZW50LmRpc2FibGVkID0gdHJ1ZTsKCiAgZm9yIChjb25zdCBmaWxlIG9mIGZpbGVzKSB7CiAgICBjb25zdCBsaSA9IGRvY3VtZW50LmNyZWF0ZUVsZW1lbnQoJ2xpJyk7CiAgICBsaS5hcHBlbmQoc3BhbihmaWxlLm5hbWUsIHtmb250V2VpZ2h0OiAnYm9sZCd9KSk7CiAgICBsaS5hcHBlbmQoc3BhbigKICAgICAgICBgKCR7ZmlsZS50eXBlIHx8ICduL2EnfSkgLSAke2ZpbGUuc2l6ZX0gYnl0ZXMsIGAgKwogICAgICAgIGBsYXN0IG1vZGlmaWVkOiAkewogICAgICAgICAgICBmaWxlLmxhc3RNb2RpZmllZERhdGUgPyBmaWxlLmxhc3RNb2RpZmllZERhdGUudG9Mb2NhbGVEYXRlU3RyaW5nKCkgOgogICAgICAgICAgICAgICAgICAgICAgICAgICAgICAgICAgICAnbi9hJ30gLSBgKSk7CiAgICBjb25zdCBwZXJjZW50ID0gc3BhbignMCUgZG9uZScpOwogICAgbGkuYXBwZW5kQ2hpbGQocGVyY2VudCk7CgogICAgb3V0cHV0RWxlbWVudC5hcHBlbmRDaGlsZChsaSk7CgogICAgY29uc3QgZmlsZURhdGFQcm9taXNlID0gbmV3IFByb21pc2UoKHJlc29sdmUpID0+IHsKICAgICAgY29uc3QgcmVhZGVyID0gbmV3IEZpbGVSZWFkZXIoKTsKICAgICAgcmVhZGVyLm9ubG9hZCA9IChlKSA9PiB7CiAgICAgICAgcmVzb2x2ZShlLnRhcmdldC5yZXN1bHQpOwogICAgICB9OwogICAgICByZWFkZXIucmVhZEFzQXJyYXlCdWZmZXIoZmlsZSk7CiAgICB9KTsKICAgIC8vIFdhaXQgZm9yIHRoZSBkYXRhIHRvIGJlIHJlYWR5LgogICAgbGV0IGZpbGVEYXRhID0geWllbGQgewogICAgICBwcm9taXNlOiBmaWxlRGF0YVByb21pc2UsCiAgICAgIHJlc3BvbnNlOiB7CiAgICAgICAgYWN0aW9uOiAnY29udGludWUnLAogICAgICB9CiAgICB9OwoKICAgIC8vIFVzZSBhIGNodW5rZWQgc2VuZGluZyB0byBhdm9pZCBtZXNzYWdlIHNpemUgbGltaXRzLiBTZWUgYi82MjExNTY2MC4KICAgIGxldCBwb3NpdGlvbiA9IDA7CiAgICB3aGlsZSAocG9zaXRpb24gPCBmaWxlRGF0YS5ieXRlTGVuZ3RoKSB7CiAgICAgIGNvbnN0IGxlbmd0aCA9IE1hdGgubWluKGZpbGVEYXRhLmJ5dGVMZW5ndGggLSBwb3NpdGlvbiwgTUFYX1BBWUxPQURfU0laRSk7CiAgICAgIGNvbnN0IGNodW5rID0gbmV3IFVpbnQ4QXJyYXkoZmlsZURhdGEsIHBvc2l0aW9uLCBsZW5ndGgpOwogICAgICBwb3NpdGlvbiArPSBsZW5ndGg7CgogICAgICBjb25zdCBiYXNlNjQgPSBidG9hKFN0cmluZy5mcm9tQ2hhckNvZGUuYXBwbHkobnVsbCwgY2h1bmspKTsKICAgICAgeWllbGQgewogICAgICAgIHJlc3BvbnNlOiB7CiAgICAgICAgICBhY3Rpb246ICdhcHBlbmQnLAogICAgICAgICAgZmlsZTogZmlsZS5uYW1lLAogICAgICAgICAgZGF0YTogYmFzZTY0LAogICAgICAgIH0sCiAgICAgIH07CiAgICAgIHBlcmNlbnQudGV4dENvbnRlbnQgPQogICAgICAgICAgYCR7TWF0aC5yb3VuZCgocG9zaXRpb24gLyBmaWxlRGF0YS5ieXRlTGVuZ3RoKSAqIDEwMCl9JSBkb25lYDsKICAgIH0KICB9CgogIC8vIEFsbCBkb25lLgogIHlpZWxkIHsKICAgIHJlc3BvbnNlOiB7CiAgICAgIGFjdGlvbjogJ2NvbXBsZXRlJywKICAgIH0KICB9Owp9CgpzY29wZS5nb29nbGUgPSBzY29wZS5nb29nbGUgfHwge307CnNjb3BlLmdvb2dsZS5jb2xhYiA9IHNjb3BlLmdvb2dsZS5jb2xhYiB8fCB7fTsKc2NvcGUuZ29vZ2xlLmNvbGFiLl9maWxlcyA9IHsKICBfdXBsb2FkRmlsZXMsCiAgX3VwbG9hZEZpbGVzQ29udGludWUsCn07Cn0pKHNlbGYpOwo=",
              "ok": true,
              "headers": [
                [
                  "content-type",
                  "application/javascript"
                ]
              ],
              "status": 200,
              "status_text": ""
            }
          },
          "base_uri": "https://localhost:8080/",
          "height": 69
        },
        "outputId": "c677e42e-66ad-43e1-9ac0-dbcfbd0e5621"
      },
      "cell_type": "code",
      "source": [
        "from google.colab import files\n",
        "uploaded = files.upload()"
      ],
      "execution_count": 4,
      "outputs": [
        {
          "output_type": "display_data",
          "data": {
            "text/html": [
              "\n",
              "     <input type=\"file\" id=\"files-f991ea65-01a8-441b-9789-368ccbe8f330\" name=\"files[]\" multiple disabled />\n",
              "     <output id=\"result-f991ea65-01a8-441b-9789-368ccbe8f330\">\n",
              "      Upload widget is only available when the cell has been executed in the\n",
              "      current browser session. Please rerun this cell to enable.\n",
              "      </output>\n",
              "      <script src=\"/nbextensions/google.colab/files.js\"></script> "
            ],
            "text/plain": [
              "<IPython.core.display.HTML object>"
            ]
          },
          "metadata": {
            "tags": []
          }
        },
        {
          "output_type": "stream",
          "text": [
            "Saving sonar.all-data.csv to sonar.all-data.csv\n"
          ],
          "name": "stdout"
        }
      ]
    },
    {
      "metadata": {
        "id": "qDbF5E6WyArQ",
        "colab_type": "code",
        "colab": {
          "base_uri": "https://localhost:8080/",
          "height": 34
        },
        "outputId": "d2b088e3-4a51-4a4e-a35d-6c85b3b297e8"
      },
      "cell_type": "code",
      "source": [
        "!ls"
      ],
      "execution_count": 5,
      "outputs": [
        {
          "output_type": "stream",
          "text": [
            "datalab  sonar.all-data.csv\r\n"
          ],
          "name": "stdout"
        }
      ]
    },
    {
      "metadata": {
        "id": "XLux37hwyC28",
        "colab_type": "code",
        "colab": {}
      },
      "cell_type": "code",
      "source": [
        "import tensorflow as tf"
      ],
      "execution_count": 0,
      "outputs": []
    },
    {
      "metadata": {
        "id": "9_rqjp2JzEuv",
        "colab_type": "code",
        "colab": {}
      },
      "cell_type": "code",
      "source": [
        "#node1 = tf.constant(3.0, tf.float32)\n",
        "#node2 = tf.constant(4.0)\n",
        "\n",
        "W = tf.Variable([.3], tf.float32)\n",
        "b = tf.Variable([-.3], tf.float32)\n",
        "x = tf.placeholder(tf.float32)\n",
        "\n",
        "lin_model = W*x + b\n",
        "\n",
        "init = tf.global_variables_initializer()\n",
        "\n",
        "#print(node1, node2)"
      ],
      "execution_count": 0,
      "outputs": []
    },
    {
      "metadata": {
        "id": "8G4C5Zlc5t5_",
        "colab_type": "code",
        "colab": {}
      },
      "cell_type": "code",
      "source": [
        "y = tf.placeholder(tf.float32)\n",
        "squared_deltas = tf.square(lin_model - y)\n",
        "loss = tf.reduce_sum(squared_deltas)"
      ],
      "execution_count": 0,
      "outputs": []
    },
    {
      "metadata": {
        "id": "JWOUG2eO9GGs",
        "colab_type": "code",
        "colab": {}
      },
      "cell_type": "code",
      "source": [
        "optimizer = tf.train.GradientDescentOptimizer(0.01)\n",
        "train = optimizer.minimize(loss)"
      ],
      "execution_count": 0,
      "outputs": []
    },
    {
      "metadata": {
        "id": "eLmz-aEtzOkd",
        "colab_type": "code",
        "colab": {
          "base_uri": "https://localhost:8080/",
          "height": 34
        },
        "outputId": "f4fd6b56-231c-4094-d1cc-f6040055f6c5"
      },
      "cell_type": "code",
      "source": [
        "sess = tf.Session()\n",
        "sess.run(init)\n",
        "for i in range(1000):\n",
        "  sess.run(train, {x:[1,2,3,4], y:[0, -1, -2, -3]})\n",
        "  \n",
        "#print(sess.run(loss, {x:[1,2,3,4], y:[0, -1, -2, -3]}))\n",
        "print(sess.run([W, b]))\n",
        "sess.close()"
      ],
      "execution_count": 9,
      "outputs": [
        {
          "output_type": "stream",
          "text": [
            "[array([-0.9999969], dtype=float32), array([0.9999908], dtype=float32)]\n"
          ],
          "name": "stdout"
        }
      ]
    },
    {
      "metadata": {
        "id": "VcQhNrOP6nf7",
        "colab_type": "code",
        "colab": {
          "base_uri": "https://localhost:8080/",
          "height": 34
        },
        "outputId": "48e9213b-6393-4d76-b8cf-faeba23320df"
      },
      "cell_type": "code",
      "source": [
        "!ls"
      ],
      "execution_count": 10,
      "outputs": [
        {
          "output_type": "stream",
          "text": [
            "datalab\r\n"
          ],
          "name": "stdout"
        }
      ]
    },
    {
      "metadata": {
        "id": "RL1nOG7zWHu_",
        "colab_type": "code",
        "colab": {}
      },
      "cell_type": "code",
      "source": [
        "import matplotlib.pyplot as plt\n",
        "import numpy as np\n",
        "import pandas as pd\n",
        "from sklearn.preprocessing import LabelEncoder\n",
        "from sklearn.utils import shuffle\n",
        "from sklearn.model_selection import train_test_split"
      ],
      "execution_count": 0,
      "outputs": []
    },
    {
      "metadata": {
        "id": "UCH9UF6jZkh8",
        "colab_type": "code",
        "colab": {}
      },
      "cell_type": "code",
      "source": [
        "def one_hot_encode(labels):\n",
        "  n_labels = len(labels)\n",
        "  n_unique_labels = len(np.unique(labels))\n",
        "  one_hot_encode = np.zeros((n_labels, n_unique_labels))\n",
        "  one_hot_encode[np.arange(n_labels), labels] = 1\n",
        "  return (one_hot_encode)"
      ],
      "execution_count": 0,
      "outputs": []
    },
    {
      "metadata": {
        "id": "afbMnYWjz87X",
        "colab_type": "code",
        "colab": {
          "base_uri": "https://localhost:8080/",
          "height": 34
        },
        "outputId": "cd51dbdc-15aa-4f4d-e439-5bbe52d96e04"
      },
      "cell_type": "code",
      "source": [
        "df = pd.read_csv('sonar.all-data.csv')\n",
        "X = df[df.columns[0:60]].values\n",
        "y = df[df.columns[60]]\n",
        "\n",
        "encoder = LabelEncoder()\n",
        "encoder.fit(y)\n",
        "y = encoder.transform(y)\n",
        "Y = one_hot_encode(y)\n",
        "print(X.shape)"
      ],
      "execution_count": 9,
      "outputs": [
        {
          "output_type": "stream",
          "text": [
            "(207, 60)\n"
          ],
          "name": "stdout"
        }
      ]
    },
    {
      "metadata": {
        "id": "NOZhi6Bwz4Fi",
        "colab_type": "code",
        "colab": {}
      },
      "cell_type": "code",
      "source": [
        "X, Y = shuffle(X, Y, random_state = 1)"
      ],
      "execution_count": 0,
      "outputs": []
    },
    {
      "metadata": {
        "id": "RmHrJ_DCbXTb",
        "colab_type": "code",
        "colab": {}
      },
      "cell_type": "code",
      "source": [
        "train_x, test_x, train_y, test_y = train_test_split(X, Y, test_size=0.2, random_state = 415)"
      ],
      "execution_count": 0,
      "outputs": []
    },
    {
      "metadata": {
        "id": "x1LBoJ5Jb5sD",
        "colab_type": "code",
        "colab": {
          "base_uri": "https://localhost:8080/",
          "height": 34
        },
        "outputId": "d867eb26-d32a-4917-dec0-44253666a025"
      },
      "cell_type": "code",
      "source": [
        "learning_rate = 0.3\n",
        "training_epochs = 1000\n",
        "cost_history = np.empty(shape=[1], dtype=float)\n",
        "n_dim = X.shape[1]\n",
        "print(n_dim)\n",
        "n_class = 2\n",
        "\n",
        "n_hidden_1 = 60\n",
        "n_hidden_2 = 60\n",
        "n_hidden_3 = 60\n",
        "n_hidden_4 = 60"
      ],
      "execution_count": 12,
      "outputs": [
        {
          "output_type": "stream",
          "text": [
            "60\n"
          ],
          "name": "stdout"
        }
      ]
    },
    {
      "metadata": {
        "id": "KHyVEMG4bSf9",
        "colab_type": "code",
        "colab": {}
      },
      "cell_type": "code",
      "source": [
        "x = tf.placeholder(tf.float32, [None, n_dim])\n",
        "W = tf.Variable(tf.zeros([n_dim, n_class]))\n",
        "b = tf.Variable(tf.zeros([n_class]))\n",
        "y_ = tf.placeholder(tf.float32, [None, n_class])"
      ],
      "execution_count": 0,
      "outputs": []
    },
    {
      "metadata": {
        "id": "6Kax9Ky9gIRi",
        "colab_type": "code",
        "colab": {}
      },
      "cell_type": "code",
      "source": [
        "def multilayer_perceptron(x, weights, biases):\n",
        "  layer_1 = tf.add(tf.matmul(x, weights['h1'], transpose_a=False), biases['b1'])\n",
        "  layer_1 = tf.nn.sigmoid(layer_1)\n",
        "  \n",
        "  layer_2 = tf.add(tf.matmul(x, weights['h2'], transpose_a=False), biases['b2'])\n",
        "  layer_2 = tf.nn.sigmoid(layer_2)\n",
        "  \n",
        "  layer_3 = tf.add(tf.matmul(x, weights['h3'], transpose_a=False), biases['b3'])\n",
        "  layer_3 = tf.nn.sigmoid(layer_3)\n",
        "  \n",
        "  layer_4 = tf.add(tf.matmul(x, weights['h4'], transpose_a=False), biases['b4'])\n",
        "  layer_4 = tf.nn.relu(layer_4)\n",
        "  \n",
        "  out_layer = tf.matmul(layer_4, weights['out']) + biases['out']\n",
        "  \n",
        "  return out_layer"
      ],
      "execution_count": 0,
      "outputs": []
    },
    {
      "metadata": {
        "id": "SNTwg3E5ektR",
        "colab_type": "code",
        "colab": {}
      },
      "cell_type": "code",
      "source": [
        "weights = {\n",
        "    'h1': tf.Variable(tf.truncated_normal([n_dim, n_hidden_1])),\n",
        "    'h2': tf.Variable(tf.truncated_normal([n_hidden_1, n_hidden_2])),\n",
        "    'h3': tf.Variable(tf.truncated_normal([n_hidden_2, n_hidden_3])),\n",
        "    'h4': tf.Variable(tf.truncated_normal([n_hidden_3, n_hidden_4])),\n",
        "    'out': tf.Variable(tf.truncated_normal([n_hidden_4, n_class]))\n",
        "}\n",
        "biases = {\n",
        "    'b1': tf.Variable(tf.truncated_normal([n_hidden_1])),\n",
        "    'b2': tf.Variable(tf.truncated_normal([n_hidden_2])),\n",
        "    'b3': tf.Variable(tf.truncated_normal([n_hidden_3])),\n",
        "    'b4': tf.Variable(tf.truncated_normal([n_hidden_4])),\n",
        "    'out': tf.Variable(tf.truncated_normal([n_class]))\n",
        "}"
      ],
      "execution_count": 0,
      "outputs": []
    },
    {
      "metadata": {
        "id": "DIjsiGD0upwf",
        "colab_type": "code",
        "colab": {
          "base_uri": "https://localhost:8080/",
          "height": 173
        },
        "outputId": "fbacb494-02e1-4508-af11-2a3f5429ad88"
      },
      "cell_type": "code",
      "source": [
        "init = tf.global_variables_initializer()\n",
        "\n",
        "saver = tf.train.Saver()\n",
        "\n",
        "y = multilayer_perceptron(x, weights, biases)\n",
        "\n",
        "cost_function = tf.reduce_mean(tf.nn.softmax_cross_entropy_with_logits(logits=y, labels=y_))\n",
        "training_step = tf.train.GradientDescentOptimizer(learning_rate).minimize(cost_function)"
      ],
      "execution_count": 16,
      "outputs": [
        {
          "output_type": "stream",
          "text": [
            "WARNING:tensorflow:From <ipython-input-16-9f687ce43886>:7: softmax_cross_entropy_with_logits (from tensorflow.python.ops.nn_ops) is deprecated and will be removed in a future version.\n",
            "Instructions for updating:\n",
            "\n",
            "Future major versions of TensorFlow will allow gradients to flow\n",
            "into the labels input on backprop by default.\n",
            "\n",
            "See tf.nn.softmax_cross_entropy_with_logits_v2.\n",
            "\n"
          ],
          "name": "stdout"
        }
      ]
    },
    {
      "metadata": {
        "id": "WrcBNN1MvyK9",
        "colab_type": "code",
        "colab": {}
      },
      "cell_type": "code",
      "source": [
        "sess = tf.Session()\n",
        "sess.run(init)"
      ],
      "execution_count": 0,
      "outputs": []
    },
    {
      "metadata": {
        "id": "wiFK2VDC0eU4",
        "colab_type": "code",
        "colab": {
          "base_uri": "https://localhost:8080/",
          "height": 19479
        },
        "outputId": "da9e670c-42a1-4d7b-d939-7a294a6f06b6"
      },
      "cell_type": "code",
      "source": [
        "mse_history = []\n",
        "accuracy_history = []\n",
        "\n",
        "for epoch in range(training_epochs):\n",
        "  sess.run(training_step, feed_dict={x:train_x,y_:train_y})\n",
        "  cost = sess.run(cost_function, feed_dict={x:train_x, y_:train_y})\n",
        "  cost_history = np.append(cost_history, cost)\n",
        "  correct_prediction = tf.equal(tf.argmax(y, 1), tf.argmax(y_, 1))\n",
        "  accuracy = tf.reduce_mean(tf.cast(correct_prediction, tf.float32))\n",
        "  pred_y = sess.run(y, feed_dict={x:test_x})\n",
        "  mse = tf.reduce_mean(tf.square(pred_y - test_y))\n",
        "  mse_ = sess.run(mse)\n",
        "  mse_history.append(mse_)\n",
        "  accuracy = sess.run(accuracy, feed_dict={x:train_x, y_: train_y})\n",
        "  accuracy_history.append(accuracy)\n",
        "  \n",
        "  print('epoch: ', epoch, ' - ', 'cost: ', cost, ' - MSE: ', mse_, '- Test accuracy: ', accuracy)\n",
        "\n"
      ],
      "execution_count": 18,
      "outputs": [
        {
          "output_type": "stream",
          "text": [
            "epoch:  0  -  cost:  38.29211  - MSE:  1208.0698779203606 - Test accuracy:  0.45454547\n",
            "epoch:  1  -  cost:  10.168725  - MSE:  181.62996548841235 - Test accuracy:  0.54545456\n",
            "epoch:  2  -  cost:  4.4918594  - MSE:  31.651939376830278 - Test accuracy:  0.45454547\n",
            "epoch:  3  -  cost:  7.4802155  - MSE:  110.98482251881417 - Test accuracy:  0.54545456\n",
            "epoch:  4  -  cost:  1.2451801  - MSE:  15.938786168529624 - Test accuracy:  0.6666667\n",
            "epoch:  5  -  cost:  0.86864984  - MSE:  11.929551446384643 - Test accuracy:  0.6242424\n",
            "epoch:  6  -  cost:  0.7663778  - MSE:  11.697382533229122 - Test accuracy:  0.6909091\n",
            "epoch:  7  -  cost:  0.94887596  - MSE:  11.50152574714497 - Test accuracy:  0.53939396\n",
            "epoch:  8  -  cost:  1.7871007  - MSE:  16.807650611870617 - Test accuracy:  0.54545456\n",
            "epoch:  9  -  cost:  1.3642216  - MSE:  13.17249153443851 - Test accuracy:  0.46060607\n",
            "epoch:  10  -  cost:  1.5799063  - MSE:  15.346505061511266 - Test accuracy:  0.55151516\n",
            "epoch:  11  -  cost:  0.67478067  - MSE:  10.79021641408033 - Test accuracy:  0.6606061\n",
            "epoch:  12  -  cost:  0.623989  - MSE:  10.41948142071351 - Test accuracy:  0.7030303\n",
            "epoch:  13  -  cost:  0.57638407  - MSE:  10.40615992670092 - Test accuracy:  0.7151515\n",
            "epoch:  14  -  cost:  0.5710433  - MSE:  10.141302180511271 - Test accuracy:  0.6969697\n",
            "epoch:  15  -  cost:  0.5413595  - MSE:  10.258238366150104 - Test accuracy:  0.74545455\n",
            "epoch:  16  -  cost:  0.53906655  - MSE:  9.94409385599404 - Test accuracy:  0.72121215\n",
            "epoch:  17  -  cost:  0.51556134  - MSE:  10.01863943388541 - Test accuracy:  0.75757575\n",
            "epoch:  18  -  cost:  0.5172931  - MSE:  9.715061702788798 - Test accuracy:  0.73939395\n",
            "epoch:  19  -  cost:  0.50039375  - MSE:  9.806832819059165 - Test accuracy:  0.76969695\n",
            "epoch:  20  -  cost:  0.50678873  - MSE:  9.532629018113214 - Test accuracy:  0.75757575\n",
            "epoch:  21  -  cost:  0.49791634  - MSE:  9.79002595273963 - Test accuracy:  0.76363635\n",
            "epoch:  22  -  cost:  0.5072146  - MSE:  9.51560721897905 - Test accuracy:  0.75151515\n",
            "epoch:  23  -  cost:  0.49348265  - MSE:  9.814235105634278 - Test accuracy:  0.76969695\n",
            "epoch:  24  -  cost:  0.5030739  - MSE:  9.52089280197326 - Test accuracy:  0.75151515\n",
            "epoch:  25  -  cost:  0.4863152  - MSE:  9.852655778919885 - Test accuracy:  0.77575755\n",
            "epoch:  26  -  cost:  0.49116635  - MSE:  9.491827904145007 - Test accuracy:  0.75151515\n",
            "epoch:  27  -  cost:  0.473598  - MSE:  9.868458020800901 - Test accuracy:  0.7818182\n",
            "epoch:  28  -  cost:  0.47622472  - MSE:  9.45480983671338 - Test accuracy:  0.76363635\n",
            "epoch:  29  -  cost:  0.45921445  - MSE:  9.837077345437214 - Test accuracy:  0.7939394\n",
            "epoch:  30  -  cost:  0.4593262  - MSE:  9.44093549359379 - Test accuracy:  0.76363635\n",
            "epoch:  31  -  cost:  0.44688317  - MSE:  9.846516603077507 - Test accuracy:  0.8121212\n",
            "epoch:  32  -  cost:  0.44715565  - MSE:  9.449095106112948 - Test accuracy:  0.77575755\n",
            "epoch:  33  -  cost:  0.43978485  - MSE:  9.882364085979093 - Test accuracy:  0.8121212\n",
            "epoch:  34  -  cost:  0.43940213  - MSE:  9.470931361502597 - Test accuracy:  0.76969695\n",
            "epoch:  35  -  cost:  0.42807123  - MSE:  9.8264287063091 - Test accuracy:  0.8242424\n",
            "epoch:  36  -  cost:  0.4282541  - MSE:  9.443071569388334 - Test accuracy:  0.7878788\n",
            "epoch:  37  -  cost:  0.4214294  - MSE:  9.862145915530478 - Test accuracy:  0.8363636\n",
            "epoch:  38  -  cost:  0.42193082  - MSE:  9.490485832468261 - Test accuracy:  0.7939394\n",
            "epoch:  39  -  cost:  0.41582215  - MSE:  9.904676732287566 - Test accuracy:  0.8363636\n",
            "epoch:  40  -  cost:  0.41895476  - MSE:  9.4576432546963 - Test accuracy:  0.7939394\n",
            "epoch:  41  -  cost:  0.41452268  - MSE:  9.919217001830987 - Test accuracy:  0.8363636\n",
            "epoch:  42  -  cost:  0.419854  - MSE:  9.476351384116375 - Test accuracy:  0.7878788\n",
            "epoch:  43  -  cost:  0.41084087  - MSE:  9.92994051171145 - Test accuracy:  0.8484849\n",
            "epoch:  44  -  cost:  0.41735628  - MSE:  9.50467546234749 - Test accuracy:  0.7939394\n",
            "epoch:  45  -  cost:  0.4098957  - MSE:  10.01272221241996 - Test accuracy:  0.8424242\n",
            "epoch:  46  -  cost:  0.4137963  - MSE:  9.574319401888406 - Test accuracy:  0.7878788\n",
            "epoch:  47  -  cost:  0.40186286  - MSE:  10.014725967336265 - Test accuracy:  0.8484849\n",
            "epoch:  48  -  cost:  0.4043332  - MSE:  9.641550673939951 - Test accuracy:  0.7939394\n",
            "epoch:  49  -  cost:  0.39258355  - MSE:  10.04106854802057 - Test accuracy:  0.8484849\n",
            "epoch:  50  -  cost:  0.39376053  - MSE:  9.671056573877708 - Test accuracy:  0.8\n",
            "epoch:  51  -  cost:  0.3852484  - MSE:  10.055546815964776 - Test accuracy:  0.8484849\n",
            "epoch:  52  -  cost:  0.39034554  - MSE:  9.686352485313193 - Test accuracy:  0.8\n",
            "epoch:  53  -  cost:  0.38561597  - MSE:  10.179190546120063 - Test accuracy:  0.8484849\n",
            "epoch:  54  -  cost:  0.38941836  - MSE:  9.767063807567277 - Test accuracy:  0.8\n",
            "epoch:  55  -  cost:  0.3812707  - MSE:  10.169189975000572 - Test accuracy:  0.8484849\n",
            "epoch:  56  -  cost:  0.3847282  - MSE:  9.798240449326727 - Test accuracy:  0.8\n",
            "epoch:  57  -  cost:  0.3767675  - MSE:  10.22142881958105 - Test accuracy:  0.8484849\n",
            "epoch:  58  -  cost:  0.38109243  - MSE:  9.85092711452327 - Test accuracy:  0.8\n",
            "epoch:  59  -  cost:  0.3720054  - MSE:  10.278446939566212 - Test accuracy:  0.8484849\n",
            "epoch:  60  -  cost:  0.37745744  - MSE:  9.869164760021802 - Test accuracy:  0.8\n",
            "epoch:  61  -  cost:  0.37120524  - MSE:  10.380453242903238 - Test accuracy:  0.8484849\n",
            "epoch:  62  -  cost:  0.3728013  - MSE:  9.971575350997748 - Test accuracy:  0.8\n",
            "epoch:  63  -  cost:  0.3608274  - MSE:  10.376305567815761 - Test accuracy:  0.8606061\n",
            "epoch:  64  -  cost:  0.3619442  - MSE:  9.967231625095952 - Test accuracy:  0.8060606\n",
            "epoch:  65  -  cost:  0.35418436  - MSE:  10.382106903463702 - Test accuracy:  0.8727273\n",
            "epoch:  66  -  cost:  0.3553993  - MSE:  10.023007740112655 - Test accuracy:  0.8121212\n",
            "epoch:  67  -  cost:  0.34738278  - MSE:  10.42105981844875 - Test accuracy:  0.8727273\n",
            "epoch:  68  -  cost:  0.3482634  - MSE:  10.059768869710451 - Test accuracy:  0.8181818\n",
            "epoch:  69  -  cost:  0.34200236  - MSE:  10.435605038139975 - Test accuracy:  0.8787879\n",
            "epoch:  70  -  cost:  0.34273317  - MSE:  10.088964786448917 - Test accuracy:  0.8242424\n",
            "epoch:  71  -  cost:  0.33696103  - MSE:  10.470484719888432 - Test accuracy:  0.8848485\n",
            "epoch:  72  -  cost:  0.3372996  - MSE:  10.127016973915588 - Test accuracy:  0.8242424\n",
            "epoch:  73  -  cost:  0.33256313  - MSE:  10.505293788606323 - Test accuracy:  0.8848485\n",
            "epoch:  74  -  cost:  0.33373934  - MSE:  10.173377127783729 - Test accuracy:  0.830303\n",
            "epoch:  75  -  cost:  0.32812053  - MSE:  10.519554339395471 - Test accuracy:  0.8848485\n",
            "epoch:  76  -  cost:  0.32923126  - MSE:  10.198989612229338 - Test accuracy:  0.8363636\n",
            "epoch:  77  -  cost:  0.3251978  - MSE:  10.615426970955081 - Test accuracy:  0.8909091\n",
            "epoch:  78  -  cost:  0.32616198  - MSE:  10.25395974931353 - Test accuracy:  0.8424242\n",
            "epoch:  79  -  cost:  0.32182607  - MSE:  10.608008570408785 - Test accuracy:  0.8909091\n",
            "epoch:  80  -  cost:  0.322894  - MSE:  10.253405449113997 - Test accuracy:  0.8424242\n",
            "epoch:  81  -  cost:  0.3208625  - MSE:  10.672309964645516 - Test accuracy:  0.8909091\n",
            "epoch:  82  -  cost:  0.32211855  - MSE:  10.31118827281873 - Test accuracy:  0.8484849\n",
            "epoch:  83  -  cost:  0.3161098  - MSE:  10.644158167723285 - Test accuracy:  0.8909091\n",
            "epoch:  84  -  cost:  0.3179167  - MSE:  10.288842902732283 - Test accuracy:  0.8484849\n",
            "epoch:  85  -  cost:  0.31642416  - MSE:  10.770957427498221 - Test accuracy:  0.8909091\n",
            "epoch:  86  -  cost:  0.31572476  - MSE:  10.366468393769717 - Test accuracy:  0.8484849\n",
            "epoch:  87  -  cost:  0.3096124  - MSE:  10.6917025690555 - Test accuracy:  0.8909091\n",
            "epoch:  88  -  cost:  0.31089982  - MSE:  10.344370787990638 - Test accuracy:  0.8424242\n",
            "epoch:  89  -  cost:  0.30908355  - MSE:  10.802977680068363 - Test accuracy:  0.8909091\n",
            "epoch:  90  -  cost:  0.30842078  - MSE:  10.427837756511101 - Test accuracy:  0.8424242\n",
            "epoch:  91  -  cost:  0.30204484  - MSE:  10.724125624055713 - Test accuracy:  0.8969697\n",
            "epoch:  92  -  cost:  0.30378312  - MSE:  10.38612370135535 - Test accuracy:  0.8545455\n",
            "epoch:  93  -  cost:  0.30193293  - MSE:  10.836320524081614 - Test accuracy:  0.8969697\n",
            "epoch:  94  -  cost:  0.3033874  - MSE:  10.426863523988835 - Test accuracy:  0.8545455\n",
            "epoch:  95  -  cost:  0.2993907  - MSE:  10.82693494892628 - Test accuracy:  0.8969697\n"
          ],
          "name": "stdout"
        },
        {
          "output_type": "stream",
          "text": [
            "epoch:  96  -  cost:  0.30027756  - MSE:  10.457810293895605 - Test accuracy:  0.8606061\n",
            "epoch:  97  -  cost:  0.29878232  - MSE:  10.918049955245595 - Test accuracy:  0.8969697\n",
            "epoch:  98  -  cost:  0.30054545  - MSE:  10.517014827237839 - Test accuracy:  0.8545455\n",
            "epoch:  99  -  cost:  0.29455706  - MSE:  10.909260382295704 - Test accuracy:  0.9030303\n",
            "epoch:  100  -  cost:  0.29654437  - MSE:  10.487874915701541 - Test accuracy:  0.8606061\n",
            "epoch:  101  -  cost:  0.29467058  - MSE:  10.995369393608286 - Test accuracy:  0.90909094\n",
            "epoch:  102  -  cost:  0.29464057  - MSE:  10.536109082569215 - Test accuracy:  0.8727273\n",
            "epoch:  103  -  cost:  0.28649825  - MSE:  10.876970319908889 - Test accuracy:  0.9030303\n",
            "epoch:  104  -  cost:  0.28721416  - MSE:  10.521530028898255 - Test accuracy:  0.8727273\n",
            "epoch:  105  -  cost:  0.28496987  - MSE:  11.028802717784231 - Test accuracy:  0.9030303\n",
            "epoch:  106  -  cost:  0.2866166  - MSE:  10.591108022008013 - Test accuracy:  0.8787879\n",
            "epoch:  107  -  cost:  0.2833221  - MSE:  11.0769998224055 - Test accuracy:  0.90909094\n",
            "epoch:  108  -  cost:  0.28474256  - MSE:  10.631026088685577 - Test accuracy:  0.8787879\n",
            "epoch:  109  -  cost:  0.28152317  - MSE:  11.124446493534625 - Test accuracy:  0.90909094\n",
            "epoch:  110  -  cost:  0.28386313  - MSE:  10.660711227283704 - Test accuracy:  0.8787879\n",
            "epoch:  111  -  cost:  0.27772626  - MSE:  11.105573139675766 - Test accuracy:  0.91515154\n",
            "epoch:  112  -  cost:  0.2787869  - MSE:  10.635483844554145 - Test accuracy:  0.8787879\n",
            "epoch:  113  -  cost:  0.27752346  - MSE:  11.185026839397787 - Test accuracy:  0.90909094\n",
            "epoch:  114  -  cost:  0.2791354  - MSE:  10.685994337903479 - Test accuracy:  0.8787879\n",
            "epoch:  115  -  cost:  0.27352706  - MSE:  11.138955318345449 - Test accuracy:  0.91515154\n",
            "epoch:  116  -  cost:  0.27537823  - MSE:  10.675187688829551 - Test accuracy:  0.8787879\n",
            "epoch:  117  -  cost:  0.27403566  - MSE:  11.228552455038178 - Test accuracy:  0.91515154\n",
            "epoch:  118  -  cost:  0.2750025  - MSE:  10.695485222659917 - Test accuracy:  0.8787879\n",
            "epoch:  119  -  cost:  0.26811564  - MSE:  11.138488013067233 - Test accuracy:  0.91515154\n",
            "epoch:  120  -  cost:  0.268231  - MSE:  10.629629878759808 - Test accuracy:  0.8848485\n",
            "epoch:  121  -  cost:  0.26738402  - MSE:  11.179123046531995 - Test accuracy:  0.91515154\n",
            "epoch:  122  -  cost:  0.2680176  - MSE:  10.658687828253386 - Test accuracy:  0.8787879\n",
            "epoch:  123  -  cost:  0.26225856  - MSE:  11.109533784514591 - Test accuracy:  0.91515154\n",
            "epoch:  124  -  cost:  0.26231688  - MSE:  10.604988749928097 - Test accuracy:  0.8848485\n",
            "epoch:  125  -  cost:  0.26082188  - MSE:  11.192861387880328 - Test accuracy:  0.91515154\n",
            "epoch:  126  -  cost:  0.26235795  - MSE:  10.63238770092634 - Test accuracy:  0.8848485\n",
            "epoch:  127  -  cost:  0.25680864  - MSE:  11.1127134347429 - Test accuracy:  0.91515154\n",
            "epoch:  128  -  cost:  0.2563254  - MSE:  10.625512701470228 - Test accuracy:  0.8909091\n",
            "epoch:  129  -  cost:  0.2557272  - MSE:  11.241239073858608 - Test accuracy:  0.91515154\n",
            "epoch:  130  -  cost:  0.25698817  - MSE:  10.694054998500441 - Test accuracy:  0.8848485\n",
            "epoch:  131  -  cost:  0.25159225  - MSE:  11.174832063973705 - Test accuracy:  0.92121214\n",
            "epoch:  132  -  cost:  0.2522166  - MSE:  10.658624479067056 - Test accuracy:  0.8909091\n",
            "epoch:  133  -  cost:  0.25164688  - MSE:  11.283198597292769 - Test accuracy:  0.92121214\n",
            "epoch:  134  -  cost:  0.25415367  - MSE:  10.719702701704811 - Test accuracy:  0.8909091\n",
            "epoch:  135  -  cost:  0.24886155  - MSE:  11.24251441656172 - Test accuracy:  0.92121214\n",
            "epoch:  136  -  cost:  0.24942888  - MSE:  10.679008002976369 - Test accuracy:  0.8969697\n",
            "epoch:  137  -  cost:  0.24845307  - MSE:  11.315950917584123 - Test accuracy:  0.92121214\n",
            "epoch:  138  -  cost:  0.25055146  - MSE:  10.721993572394226 - Test accuracy:  0.8969697\n",
            "epoch:  139  -  cost:  0.24572705  - MSE:  11.2539801738635 - Test accuracy:  0.92121214\n",
            "epoch:  140  -  cost:  0.24725619  - MSE:  10.692159333700983 - Test accuracy:  0.8969697\n",
            "epoch:  141  -  cost:  0.24698718  - MSE:  11.356856009996033 - Test accuracy:  0.92121214\n",
            "epoch:  142  -  cost:  0.2501457  - MSE:  10.68708913110206 - Test accuracy:  0.8969697\n",
            "epoch:  143  -  cost:  0.24396355  - MSE:  11.238454784082245 - Test accuracy:  0.92121214\n",
            "epoch:  144  -  cost:  0.24494308  - MSE:  10.653216467028466 - Test accuracy:  0.8969697\n",
            "epoch:  145  -  cost:  0.24337257  - MSE:  11.323478661676477 - Test accuracy:  0.92121214\n",
            "epoch:  146  -  cost:  0.24511397  - MSE:  10.686930721354187 - Test accuracy:  0.8969697\n",
            "epoch:  147  -  cost:  0.23741086  - MSE:  11.182410918372284 - Test accuracy:  0.92121214\n",
            "epoch:  148  -  cost:  0.23729642  - MSE:  10.619558020943378 - Test accuracy:  0.9030303\n",
            "epoch:  149  -  cost:  0.23516665  - MSE:  11.266819442060186 - Test accuracy:  0.92121214\n",
            "epoch:  150  -  cost:  0.23432072  - MSE:  10.636825814096557 - Test accuracy:  0.91515154\n",
            "epoch:  151  -  cost:  0.22896525  - MSE:  11.14596349309646 - Test accuracy:  0.92121214\n",
            "epoch:  152  -  cost:  0.22823708  - MSE:  10.60896148585932 - Test accuracy:  0.92121214\n",
            "epoch:  153  -  cost:  0.2241035  - MSE:  11.148533226540659 - Test accuracy:  0.92121214\n",
            "epoch:  154  -  cost:  0.22249967  - MSE:  10.630477678961023 - Test accuracy:  0.92727274\n",
            "epoch:  155  -  cost:  0.21856546  - MSE:  11.138700576777529 - Test accuracy:  0.92121214\n",
            "epoch:  156  -  cost:  0.21676086  - MSE:  10.608262602543608 - Test accuracy:  0.92727274\n",
            "epoch:  157  -  cost:  0.21519454  - MSE:  11.14106397253614 - Test accuracy:  0.92121214\n",
            "epoch:  158  -  cost:  0.21360523  - MSE:  10.641603170745352 - Test accuracy:  0.92727274\n",
            "epoch:  159  -  cost:  0.21013854  - MSE:  11.062791457878602 - Test accuracy:  0.92727274\n",
            "epoch:  160  -  cost:  0.20790322  - MSE:  10.652817461394312 - Test accuracy:  0.92727274\n",
            "epoch:  161  -  cost:  0.20750691  - MSE:  11.181099108163878 - Test accuracy:  0.92727274\n",
            "epoch:  162  -  cost:  0.2054845  - MSE:  10.698033847076807 - Test accuracy:  0.93333334\n",
            "epoch:  163  -  cost:  0.20323926  - MSE:  11.099576038822734 - Test accuracy:  0.92727274\n",
            "epoch:  164  -  cost:  0.2023001  - MSE:  10.654225316192274 - Test accuracy:  0.92727274\n",
            "epoch:  165  -  cost:  0.20205516  - MSE:  11.12702537883751 - Test accuracy:  0.92727274\n",
            "epoch:  166  -  cost:  0.20073096  - MSE:  10.672057333739636 - Test accuracy:  0.93333334\n",
            "epoch:  167  -  cost:  0.19959134  - MSE:  11.113410500106456 - Test accuracy:  0.92727274\n",
            "epoch:  168  -  cost:  0.19978282  - MSE:  10.618562279883601 - Test accuracy:  0.93333334\n",
            "epoch:  169  -  cost:  0.20001623  - MSE:  11.147458972891789 - Test accuracy:  0.92727274\n",
            "epoch:  170  -  cost:  0.1996312  - MSE:  10.660312750822847 - Test accuracy:  0.93333334\n",
            "epoch:  171  -  cost:  0.19896433  - MSE:  11.124669686509336 - Test accuracy:  0.92727274\n",
            "epoch:  172  -  cost:  0.20005307  - MSE:  10.580679287323736 - Test accuracy:  0.93333334\n",
            "epoch:  173  -  cost:  0.20071515  - MSE:  11.164940167099624 - Test accuracy:  0.92727274\n"
          ],
          "name": "stdout"
        },
        {
          "output_type": "stream",
          "text": [
            "epoch:  174  -  cost:  0.20092884  - MSE:  10.65514981591935 - Test accuracy:  0.93333334\n",
            "epoch:  175  -  cost:  0.19960748  - MSE:  11.175635043469773 - Test accuracy:  0.92727274\n",
            "epoch:  176  -  cost:  0.20058727  - MSE:  10.626001644049799 - Test accuracy:  0.93333334\n",
            "epoch:  177  -  cost:  0.19897893  - MSE:  11.170183600859364 - Test accuracy:  0.92727274\n",
            "epoch:  178  -  cost:  0.20131198  - MSE:  10.604233898978205 - Test accuracy:  0.93333334\n",
            "epoch:  179  -  cost:  0.20189385  - MSE:  11.267708725028365 - Test accuracy:  0.92727274\n",
            "epoch:  180  -  cost:  0.20366845  - MSE:  10.653375383020208 - Test accuracy:  0.92727274\n",
            "epoch:  181  -  cost:  0.20238374  - MSE:  11.271025494615701 - Test accuracy:  0.92727274\n",
            "epoch:  182  -  cost:  0.20684838  - MSE:  10.643472422271795 - Test accuracy:  0.91515154\n",
            "epoch:  183  -  cost:  0.20455018  - MSE:  11.286694387551123 - Test accuracy:  0.92121214\n",
            "epoch:  184  -  cost:  0.20851813  - MSE:  10.648512464302112 - Test accuracy:  0.91515154\n",
            "epoch:  185  -  cost:  0.20773101  - MSE:  11.38333405927767 - Test accuracy:  0.92121214\n",
            "epoch:  186  -  cost:  0.213572  - MSE:  10.668999574252915 - Test accuracy:  0.91515154\n",
            "epoch:  187  -  cost:  0.20771609  - MSE:  11.36302754186373 - Test accuracy:  0.92121214\n",
            "epoch:  188  -  cost:  0.21139316  - MSE:  10.615762030549428 - Test accuracy:  0.91515154\n",
            "epoch:  189  -  cost:  0.20709111  - MSE:  11.403892168751902 - Test accuracy:  0.92121214\n",
            "epoch:  190  -  cost:  0.21030176  - MSE:  10.630112872615815 - Test accuracy:  0.91515154\n",
            "epoch:  191  -  cost:  0.20265803  - MSE:  11.302015244813642 - Test accuracy:  0.92121214\n",
            "epoch:  192  -  cost:  0.20350462  - MSE:  10.586097147620112 - Test accuracy:  0.92121214\n",
            "epoch:  193  -  cost:  0.19657962  - MSE:  11.266160219227045 - Test accuracy:  0.92727274\n",
            "epoch:  194  -  cost:  0.19539696  - MSE:  10.634256810484693 - Test accuracy:  0.92727274\n",
            "epoch:  195  -  cost:  0.18939418  - MSE:  11.26671110679486 - Test accuracy:  0.92727274\n",
            "epoch:  196  -  cost:  0.18677728  - MSE:  10.693863266114096 - Test accuracy:  0.93333334\n",
            "epoch:  197  -  cost:  0.18201129  - MSE:  11.27408872031691 - Test accuracy:  0.93333334\n",
            "epoch:  198  -  cost:  0.18059738  - MSE:  10.682180662151211 - Test accuracy:  0.93333334\n",
            "epoch:  199  -  cost:  0.17800015  - MSE:  11.30920885434517 - Test accuracy:  0.93333334\n",
            "epoch:  200  -  cost:  0.17668961  - MSE:  10.715887180473354 - Test accuracy:  0.93939394\n",
            "epoch:  201  -  cost:  0.1737415  - MSE:  11.28627718517388 - Test accuracy:  0.94545454\n",
            "epoch:  202  -  cost:  0.17198846  - MSE:  10.74565348148194 - Test accuracy:  0.93939394\n",
            "epoch:  203  -  cost:  0.1683256  - MSE:  11.23521880559289 - Test accuracy:  0.94545454\n",
            "epoch:  204  -  cost:  0.1660175  - MSE:  10.795646285843512 - Test accuracy:  0.93939394\n",
            "epoch:  205  -  cost:  0.16381766  - MSE:  11.264459205091251 - Test accuracy:  0.95151514\n",
            "epoch:  206  -  cost:  0.1616844  - MSE:  10.831346428733577 - Test accuracy:  0.94545454\n",
            "epoch:  207  -  cost:  0.15986852  - MSE:  11.235191555175888 - Test accuracy:  0.95151514\n",
            "epoch:  208  -  cost:  0.15802841  - MSE:  10.890547527022674 - Test accuracy:  0.95151514\n",
            "epoch:  209  -  cost:  0.15559185  - MSE:  11.206778145056282 - Test accuracy:  0.95757574\n",
            "epoch:  210  -  cost:  0.15489694  - MSE:  10.875087349174546 - Test accuracy:  0.95151514\n",
            "epoch:  211  -  cost:  0.15342392  - MSE:  11.209435539700578 - Test accuracy:  0.95757574\n",
            "epoch:  212  -  cost:  0.15216129  - MSE:  10.9482526527536 - Test accuracy:  0.95757574\n",
            "epoch:  213  -  cost:  0.15069757  - MSE:  11.223666370901991 - Test accuracy:  0.96363634\n",
            "epoch:  214  -  cost:  0.14995864  - MSE:  10.918806105228798 - Test accuracy:  0.96363634\n",
            "epoch:  215  -  cost:  0.1491411  - MSE:  11.196918709200284 - Test accuracy:  0.95757574\n",
            "epoch:  216  -  cost:  0.14864698  - MSE:  10.982737188759584 - Test accuracy:  0.95757574\n",
            "epoch:  217  -  cost:  0.14784497  - MSE:  11.268043315553003 - Test accuracy:  0.95757574\n",
            "epoch:  218  -  cost:  0.14689265  - MSE:  10.951707265093527 - Test accuracy:  0.96363634\n",
            "epoch:  219  -  cost:  0.14593749  - MSE:  11.214520322327266 - Test accuracy:  0.95757574\n",
            "epoch:  220  -  cost:  0.14506698  - MSE:  10.999868248565864 - Test accuracy:  0.96363634\n",
            "epoch:  221  -  cost:  0.14444557  - MSE:  11.250061106753765 - Test accuracy:  0.95757574\n",
            "epoch:  222  -  cost:  0.14459383  - MSE:  10.981748630249706 - Test accuracy:  0.96363634\n",
            "epoch:  223  -  cost:  0.14429569  - MSE:  11.277355892536942 - Test accuracy:  0.96363634\n",
            "epoch:  224  -  cost:  0.14481641  - MSE:  11.00620420185692 - Test accuracy:  0.95757574\n",
            "epoch:  225  -  cost:  0.14391364  - MSE:  11.316847837059008 - Test accuracy:  0.95757574\n",
            "epoch:  226  -  cost:  0.1439653  - MSE:  10.956879440231893 - Test accuracy:  0.95757574\n",
            "epoch:  227  -  cost:  0.14397253  - MSE:  11.302267002925554 - Test accuracy:  0.95757574\n",
            "epoch:  228  -  cost:  0.14513896  - MSE:  10.958178504251013 - Test accuracy:  0.95151514\n",
            "epoch:  229  -  cost:  0.14506379  - MSE:  11.381960157732653 - Test accuracy:  0.95757574\n",
            "epoch:  230  -  cost:  0.14628746  - MSE:  10.957769932249905 - Test accuracy:  0.95151514\n",
            "epoch:  231  -  cost:  0.1458697  - MSE:  11.41130251960504 - Test accuracy:  0.95151514\n",
            "epoch:  232  -  cost:  0.14800388  - MSE:  10.949183026100666 - Test accuracy:  0.94545454\n",
            "epoch:  233  -  cost:  0.14868094  - MSE:  11.493579113436997 - Test accuracy:  0.95151514\n",
            "epoch:  234  -  cost:  0.15167771  - MSE:  10.970759362848005 - Test accuracy:  0.93939394\n",
            "epoch:  235  -  cost:  0.1516197  - MSE:  11.552674591529424 - Test accuracy:  0.95151514\n",
            "epoch:  236  -  cost:  0.15544996  - MSE:  10.973534165078409 - Test accuracy:  0.93939394\n",
            "epoch:  237  -  cost:  0.15484819  - MSE:  11.63476287746766 - Test accuracy:  0.95151514\n"
          ],
          "name": "stdout"
        },
        {
          "output_type": "stream",
          "text": [
            "epoch:  238  -  cost:  0.15917467  - MSE:  11.008454920559684 - Test accuracy:  0.93939394\n",
            "epoch:  239  -  cost:  0.15686421  - MSE:  11.669639313650018 - Test accuracy:  0.95151514\n",
            "epoch:  240  -  cost:  0.1616971  - MSE:  10.995722829954607 - Test accuracy:  0.93939394\n",
            "epoch:  241  -  cost:  0.16038112  - MSE:  11.74612725927808 - Test accuracy:  0.94545454\n",
            "epoch:  242  -  cost:  0.1640857  - MSE:  11.003541618096461 - Test accuracy:  0.93333334\n",
            "epoch:  243  -  cost:  0.1612696  - MSE:  11.771840944338257 - Test accuracy:  0.94545454\n",
            "epoch:  244  -  cost:  0.16629608  - MSE:  11.01168312648853 - Test accuracy:  0.93333334\n",
            "epoch:  245  -  cost:  0.1630985  - MSE:  11.813282953596943 - Test accuracy:  0.94545454\n",
            "epoch:  246  -  cost:  0.16739714  - MSE:  11.003562721348427 - Test accuracy:  0.93333334\n",
            "epoch:  247  -  cost:  0.16525035  - MSE:  11.873729505436861 - Test accuracy:  0.95151514\n",
            "epoch:  248  -  cost:  0.16846514  - MSE:  10.980931073116333 - Test accuracy:  0.93333334\n",
            "epoch:  249  -  cost:  0.1638372  - MSE:  11.79280171594912 - Test accuracy:  0.94545454\n",
            "epoch:  250  -  cost:  0.16758911  - MSE:  10.959681724458088 - Test accuracy:  0.93333334\n",
            "epoch:  251  -  cost:  0.16414773  - MSE:  11.844103973174876 - Test accuracy:  0.94545454\n",
            "epoch:  252  -  cost:  0.16487972  - MSE:  11.032161025312329 - Test accuracy:  0.93333334\n",
            "epoch:  253  -  cost:  0.15798213  - MSE:  11.8296548621318 - Test accuracy:  0.95151514\n",
            "epoch:  254  -  cost:  0.15710425  - MSE:  11.029879538717049 - Test accuracy:  0.93333334\n",
            "epoch:  255  -  cost:  0.15118028  - MSE:  11.806039530902684 - Test accuracy:  0.95151514\n",
            "epoch:  256  -  cost:  0.14868698  - MSE:  11.009613500589678 - Test accuracy:  0.93939394\n",
            "epoch:  257  -  cost:  0.14319639  - MSE:  11.716833028578641 - Test accuracy:  0.95757574\n",
            "epoch:  258  -  cost:  0.14080648  - MSE:  11.073615062251314 - Test accuracy:  0.94545454\n",
            "epoch:  259  -  cost:  0.1345978  - MSE:  11.662511091030021 - Test accuracy:  0.95757574\n",
            "epoch:  260  -  cost:  0.13174884  - MSE:  11.117949356114204 - Test accuracy:  0.96363634\n",
            "epoch:  261  -  cost:  0.12673974  - MSE:  11.598783458470265 - Test accuracy:  0.95757574\n",
            "epoch:  262  -  cost:  0.12411581  - MSE:  11.199050299751656 - Test accuracy:  0.9757576\n",
            "epoch:  263  -  cost:  0.12155364  - MSE:  11.597784802025675 - Test accuracy:  0.9757576\n",
            "epoch:  264  -  cost:  0.12046208  - MSE:  11.274668251531434 - Test accuracy:  0.9757576\n",
            "epoch:  265  -  cost:  0.11815172  - MSE:  11.631945168210526 - Test accuracy:  0.9757576\n",
            "epoch:  266  -  cost:  0.116985254  - MSE:  11.303205398905488 - Test accuracy:  0.9818182\n",
            "epoch:  267  -  cost:  0.1156947  - MSE:  11.614260056379479 - Test accuracy:  0.9818182\n",
            "epoch:  268  -  cost:  0.11481059  - MSE:  11.355668663296875 - Test accuracy:  0.9818182\n",
            "epoch:  269  -  cost:  0.11366798  - MSE:  11.607084953567297 - Test accuracy:  0.9878788\n",
            "epoch:  270  -  cost:  0.11324634  - MSE:  11.367396162593872 - Test accuracy:  0.9818182\n",
            "epoch:  271  -  cost:  0.11207337  - MSE:  11.607808059130987 - Test accuracy:  0.9878788\n",
            "epoch:  272  -  cost:  0.111735836  - MSE:  11.42506377827174 - Test accuracy:  0.9818182\n",
            "epoch:  273  -  cost:  0.11061992  - MSE:  11.616147396168401 - Test accuracy:  0.9878788\n",
            "epoch:  274  -  cost:  0.11027505  - MSE:  11.450858714061589 - Test accuracy:  0.9818182\n",
            "epoch:  275  -  cost:  0.10926846  - MSE:  11.621140855118066 - Test accuracy:  0.9878788\n",
            "epoch:  276  -  cost:  0.10891875  - MSE:  11.469395205695891 - Test accuracy:  0.9818182\n",
            "epoch:  277  -  cost:  0.10824793  - MSE:  11.65411808582225 - Test accuracy:  0.9878788\n",
            "epoch:  278  -  cost:  0.108027704  - MSE:  11.513978991859684 - Test accuracy:  0.9818182\n",
            "epoch:  279  -  cost:  0.10718369  - MSE:  11.689817281928745 - Test accuracy:  0.9878788\n",
            "epoch:  280  -  cost:  0.10700027  - MSE:  11.509632118728794 - Test accuracy:  0.9818182\n",
            "epoch:  281  -  cost:  0.106232926  - MSE:  11.688335143873818 - Test accuracy:  0.9878788\n",
            "epoch:  282  -  cost:  0.10602358  - MSE:  11.563028242493301 - Test accuracy:  0.9818182\n",
            "epoch:  283  -  cost:  0.10531899  - MSE:  11.758356980901294 - Test accuracy:  0.9878788\n",
            "epoch:  284  -  cost:  0.105021656  - MSE:  11.58681535094086 - Test accuracy:  0.9818182\n",
            "epoch:  285  -  cost:  0.104368836  - MSE:  11.775870850910746 - Test accuracy:  0.9878788\n",
            "epoch:  286  -  cost:  0.1042511  - MSE:  11.632125756136137 - Test accuracy:  0.9818182\n",
            "epoch:  287  -  cost:  0.10359242  - MSE:  11.850512477805768 - Test accuracy:  0.9939394\n",
            "epoch:  288  -  cost:  0.10331671  - MSE:  11.663728914584045 - Test accuracy:  0.9818182\n",
            "epoch:  289  -  cost:  0.10321389  - MSE:  11.900734992765408 - Test accuracy:  0.9939394\n",
            "epoch:  290  -  cost:  0.10301908  - MSE:  11.684980233882232 - Test accuracy:  0.9818182\n",
            "epoch:  291  -  cost:  0.10275917  - MSE:  11.93862444430804 - Test accuracy:  0.9939394\n",
            "epoch:  292  -  cost:  0.1025941  - MSE:  11.705113817870627 - Test accuracy:  0.9818182\n",
            "epoch:  293  -  cost:  0.102372155  - MSE:  12.012917470539806 - Test accuracy:  0.9939394\n",
            "epoch:  294  -  cost:  0.10206185  - MSE:  11.756643204903142 - Test accuracy:  0.9818182\n",
            "epoch:  295  -  cost:  0.101942666  - MSE:  12.053355357070004 - Test accuracy:  0.9939394\n",
            "epoch:  296  -  cost:  0.10176089  - MSE:  11.780990717130246 - Test accuracy:  0.9818182\n",
            "epoch:  297  -  cost:  0.101461455  - MSE:  12.097462787776132 - Test accuracy:  0.9939394\n",
            "epoch:  298  -  cost:  0.10110337  - MSE:  11.796959482647186 - Test accuracy:  0.9818182\n",
            "epoch:  299  -  cost:  0.10106242  - MSE:  12.129571880667946 - Test accuracy:  0.9939394\n",
            "epoch:  300  -  cost:  0.100969106  - MSE:  11.819825114793003 - Test accuracy:  0.9818182\n",
            "epoch:  301  -  cost:  0.10061887  - MSE:  12.159972818845697 - Test accuracy:  0.9939394\n"
          ],
          "name": "stdout"
        },
        {
          "output_type": "stream",
          "text": [
            "epoch:  302  -  cost:  0.10062391  - MSE:  11.825242058756398 - Test accuracy:  0.9818182\n",
            "epoch:  303  -  cost:  0.10073831  - MSE:  12.194515820282101 - Test accuracy:  0.9939394\n",
            "epoch:  304  -  cost:  0.101151966  - MSE:  11.848096650177805 - Test accuracy:  0.9818182\n",
            "epoch:  305  -  cost:  0.100745276  - MSE:  12.251716326221532 - Test accuracy:  0.9939394\n",
            "epoch:  306  -  cost:  0.10119107  - MSE:  11.86652611314878 - Test accuracy:  0.9818182\n",
            "epoch:  307  -  cost:  0.10089812  - MSE:  12.284048379748786 - Test accuracy:  0.9939394\n",
            "epoch:  308  -  cost:  0.10130243  - MSE:  11.873282748631762 - Test accuracy:  0.9818182\n",
            "epoch:  309  -  cost:  0.1010442  - MSE:  12.291934169253652 - Test accuracy:  0.9939394\n",
            "epoch:  310  -  cost:  0.1016516  - MSE:  11.86856180574703 - Test accuracy:  0.9818182\n",
            "epoch:  311  -  cost:  0.10147934  - MSE:  12.35139384289074 - Test accuracy:  0.9878788\n",
            "epoch:  312  -  cost:  0.102009706  - MSE:  11.900715271280408 - Test accuracy:  0.9757576\n",
            "epoch:  313  -  cost:  0.10181192  - MSE:  12.37425465175408 - Test accuracy:  0.9878788\n",
            "epoch:  314  -  cost:  0.1021601  - MSE:  11.908013256817673 - Test accuracy:  0.9757576\n",
            "epoch:  315  -  cost:  0.102616906  - MSE:  12.438873251598269 - Test accuracy:  0.9878788\n",
            "epoch:  316  -  cost:  0.1040545  - MSE:  11.961514461802713 - Test accuracy:  0.9757576\n",
            "epoch:  317  -  cost:  0.103097126  - MSE:  12.5146322607877 - Test accuracy:  0.9878788\n",
            "epoch:  318  -  cost:  0.10318518  - MSE:  11.979825811456402 - Test accuracy:  0.9757576\n",
            "epoch:  319  -  cost:  0.10274644  - MSE:  12.553430265686726 - Test accuracy:  0.9878788\n",
            "epoch:  320  -  cost:  0.10322162  - MSE:  12.014456660425061 - Test accuracy:  0.9757576\n",
            "epoch:  321  -  cost:  0.10222343  - MSE:  12.576065273372844 - Test accuracy:  0.9878788\n",
            "epoch:  322  -  cost:  0.10224058  - MSE:  12.034255129618938 - Test accuracy:  0.9757576\n",
            "epoch:  323  -  cost:  0.10092566  - MSE:  12.593634025386022 - Test accuracy:  0.9878788\n",
            "epoch:  324  -  cost:  0.101228006  - MSE:  12.05655633173058 - Test accuracy:  0.9757576\n",
            "epoch:  325  -  cost:  0.10034462  - MSE:  12.64056047985206 - Test accuracy:  0.9878788\n",
            "epoch:  326  -  cost:  0.100053415  - MSE:  12.075753672801593 - Test accuracy:  0.9757576\n",
            "epoch:  327  -  cost:  0.09857631  - MSE:  12.637123020665932 - Test accuracy:  0.9878788\n",
            "epoch:  328  -  cost:  0.0980498  - MSE:  12.094791528112777 - Test accuracy:  0.9757576\n",
            "epoch:  329  -  cost:  0.09618332  - MSE:  12.60942274610105 - Test accuracy:  0.9878788\n",
            "epoch:  330  -  cost:  0.095106974  - MSE:  12.112022972113781 - Test accuracy:  0.9818182\n",
            "epoch:  331  -  cost:  0.09349007  - MSE:  12.615573684691991 - Test accuracy:  0.9878788\n",
            "epoch:  332  -  cost:  0.09244806  - MSE:  12.129359453110315 - Test accuracy:  0.9818182\n",
            "epoch:  333  -  cost:  0.09123052  - MSE:  12.595713463747373 - Test accuracy:  0.9939394\n",
            "epoch:  334  -  cost:  0.0900348  - MSE:  12.20861200876133 - Test accuracy:  0.9818182\n",
            "epoch:  335  -  cost:  0.08828222  - MSE:  12.615415373873903 - Test accuracy:  0.9939394\n",
            "epoch:  336  -  cost:  0.08713838  - MSE:  12.220001485743396 - Test accuracy:  0.9878788\n",
            "epoch:  337  -  cost:  0.08593401  - MSE:  12.578859390456874 - Test accuracy:  0.9939394\n",
            "epoch:  338  -  cost:  0.084770165  - MSE:  12.297023966534631 - Test accuracy:  0.9878788\n",
            "epoch:  339  -  cost:  0.083277605  - MSE:  12.598697615785579 - Test accuracy:  0.9939394\n",
            "epoch:  340  -  cost:  0.082247525  - MSE:  12.358166005342623 - Test accuracy:  0.9939394\n",
            "epoch:  341  -  cost:  0.08127109  - MSE:  12.602339292727926 - Test accuracy:  0.9939394\n",
            "epoch:  342  -  cost:  0.08065795  - MSE:  12.396666644855097 - Test accuracy:  0.9939394\n",
            "epoch:  343  -  cost:  0.08006481  - MSE:  12.603382827645017 - Test accuracy:  0.9939394\n",
            "epoch:  344  -  cost:  0.079526946  - MSE:  12.45158291585767 - Test accuracy:  0.9939394\n",
            "epoch:  345  -  cost:  0.07891013  - MSE:  12.645314674248302 - Test accuracy:  0.9939394\n",
            "epoch:  346  -  cost:  0.07853134  - MSE:  12.487532167253496 - Test accuracy:  0.9939394\n",
            "epoch:  347  -  cost:  0.07815559  - MSE:  12.687544122564011 - Test accuracy:  0.9939394\n",
            "epoch:  348  -  cost:  0.0777248  - MSE:  12.535593416326394 - Test accuracy:  0.9939394\n",
            "epoch:  349  -  cost:  0.07723447  - MSE:  12.708616286763563 - Test accuracy:  0.9939394\n",
            "epoch:  350  -  cost:  0.07697238  - MSE:  12.572648924977443 - Test accuracy:  0.9939394\n",
            "epoch:  351  -  cost:  0.07653599  - MSE:  12.739107821532658 - Test accuracy:  0.9939394\n",
            "epoch:  352  -  cost:  0.0762768  - MSE:  12.59560150818175 - Test accuracy:  0.9939394\n",
            "epoch:  353  -  cost:  0.07593353  - MSE:  12.778619133119177 - Test accuracy:  0.9939394\n",
            "epoch:  354  -  cost:  0.075583294  - MSE:  12.633911353687889 - Test accuracy:  0.9939394\n",
            "epoch:  355  -  cost:  0.075125374  - MSE:  12.801790081733682 - Test accuracy:  0.9939394\n",
            "epoch:  356  -  cost:  0.0747861  - MSE:  12.67972729576595 - Test accuracy:  0.9939394\n",
            "epoch:  357  -  cost:  0.07437995  - MSE:  12.820842514728497 - Test accuracy:  0.9939394\n",
            "epoch:  358  -  cost:  0.07419453  - MSE:  12.695916108697169 - Test accuracy:  0.9939394\n",
            "epoch:  359  -  cost:  0.07387289  - MSE:  12.862028615591978 - Test accuracy:  0.9939394\n",
            "epoch:  360  -  cost:  0.07356101  - MSE:  12.736594587722234 - Test accuracy:  0.9939394\n",
            "epoch:  361  -  cost:  0.07320234  - MSE:  12.895963889479717 - Test accuracy:  0.9939394\n",
            "epoch:  362  -  cost:  0.072946444  - MSE:  12.768006978306532 - Test accuracy:  0.9939394\n",
            "epoch:  363  -  cost:  0.07270984  - MSE:  12.946367107842331 - Test accuracy:  0.9939394\n",
            "epoch:  364  -  cost:  0.0724046  - MSE:  12.809065858739704 - Test accuracy:  0.9939394\n",
            "epoch:  365  -  cost:  0.07203129  - MSE:  12.978267039850156 - Test accuracy:  0.9939394\n"
          ],
          "name": "stdout"
        },
        {
          "output_type": "stream",
          "text": [
            "epoch:  366  -  cost:  0.07174617  - MSE:  12.856478698534456 - Test accuracy:  0.9939394\n",
            "epoch:  367  -  cost:  0.071337834  - MSE:  13.011961340468355 - Test accuracy:  0.9939394\n",
            "epoch:  368  -  cost:  0.07109875  - MSE:  12.886531315680346 - Test accuracy:  0.9939394\n",
            "epoch:  369  -  cost:  0.07087536  - MSE:  13.064708404929888 - Test accuracy:  0.9939394\n",
            "epoch:  370  -  cost:  0.07071222  - MSE:  12.925804905952868 - Test accuracy:  0.9939394\n",
            "epoch:  371  -  cost:  0.070302315  - MSE:  13.0865994334873 - Test accuracy:  0.9939394\n",
            "epoch:  372  -  cost:  0.070130736  - MSE:  12.946894378627963 - Test accuracy:  0.9939394\n",
            "epoch:  373  -  cost:  0.06968277  - MSE:  13.119051172482548 - Test accuracy:  0.9939394\n",
            "epoch:  374  -  cost:  0.06932957  - MSE:  12.99711442051488 - Test accuracy:  0.9939394\n",
            "epoch:  375  -  cost:  0.06908799  - MSE:  13.17417615822816 - Test accuracy:  0.9939394\n",
            "epoch:  376  -  cost:  0.06888655  - MSE:  13.041339637856519 - Test accuracy:  0.9939394\n",
            "epoch:  377  -  cost:  0.068543136  - MSE:  13.200911106192073 - Test accuracy:  0.9939394\n",
            "epoch:  378  -  cost:  0.068329565  - MSE:  13.060275363796986 - Test accuracy:  0.9939394\n",
            "epoch:  379  -  cost:  0.06791869  - MSE:  13.225862744041294 - Test accuracy:  0.9939394\n",
            "epoch:  380  -  cost:  0.06770609  - MSE:  13.094358270733673 - Test accuracy:  0.9939394\n",
            "epoch:  381  -  cost:  0.06737522  - MSE:  13.255935568269674 - Test accuracy:  0.9939394\n",
            "epoch:  382  -  cost:  0.06721034  - MSE:  13.127563024722065 - Test accuracy:  0.9939394\n",
            "epoch:  383  -  cost:  0.06678109  - MSE:  13.286862095226528 - Test accuracy:  0.9939394\n",
            "epoch:  384  -  cost:  0.06663878  - MSE:  13.16102458203463 - Test accuracy:  0.9939394\n",
            "epoch:  385  -  cost:  0.06626816  - MSE:  13.33609974187713 - Test accuracy:  0.9939394\n",
            "epoch:  386  -  cost:  0.065922834  - MSE:  13.184744747231289 - Test accuracy:  0.9939394\n",
            "epoch:  387  -  cost:  0.06566028  - MSE:  13.336365604676319 - Test accuracy:  0.9939394\n",
            "epoch:  388  -  cost:  0.06534248  - MSE:  13.245247474111672 - Test accuracy:  0.9939394\n",
            "epoch:  389  -  cost:  0.06522702  - MSE:  13.408046351107192 - Test accuracy:  0.9939394\n",
            "epoch:  390  -  cost:  0.0649171  - MSE:  13.273552957335472 - Test accuracy:  0.9939394\n",
            "epoch:  391  -  cost:  0.06462449  - MSE:  13.42176547647274 - Test accuracy:  0.9939394\n",
            "epoch:  392  -  cost:  0.064378366  - MSE:  13.304581916428731 - Test accuracy:  0.9939394\n",
            "epoch:  393  -  cost:  0.06415849  - MSE:  13.451036771007304 - Test accuracy:  0.9939394\n",
            "epoch:  394  -  cost:  0.06392129  - MSE:  13.327604728386394 - Test accuracy:  0.9939394\n",
            "epoch:  395  -  cost:  0.06361599  - MSE:  13.477355428572748 - Test accuracy:  0.9939394\n",
            "epoch:  396  -  cost:  0.0634566  - MSE:  13.361211420167619 - Test accuracy:  0.9939394\n",
            "epoch:  397  -  cost:  0.06323653  - MSE:  13.5236510676324 - Test accuracy:  0.9939394\n",
            "epoch:  398  -  cost:  0.063044235  - MSE:  13.397689354651382 - Test accuracy:  0.9939394\n",
            "epoch:  399  -  cost:  0.06281084  - MSE:  13.567052454032213 - Test accuracy:  0.9939394\n",
            "epoch:  400  -  cost:  0.06253385  - MSE:  13.453693878161019 - Test accuracy:  0.9939394\n",
            "epoch:  401  -  cost:  0.0622686  - MSE:  13.598514667989011 - Test accuracy:  0.9939394\n",
            "epoch:  402  -  cost:  0.062136065  - MSE:  13.461993656534224 - Test accuracy:  0.9939394\n",
            "epoch:  403  -  cost:  0.061856057  - MSE:  13.640588670214248 - Test accuracy:  0.9939394\n",
            "epoch:  404  -  cost:  0.061511103  - MSE:  13.512309473167651 - Test accuracy:  0.9939394\n",
            "epoch:  405  -  cost:  0.06141781  - MSE:  13.668253158452208 - Test accuracy:  0.9939394\n",
            "epoch:  406  -  cost:  0.061062634  - MSE:  13.525282789442743 - Test accuracy:  0.9939394\n",
            "epoch:  407  -  cost:  0.060793854  - MSE:  13.669473932949726 - Test accuracy:  0.9939394\n",
            "epoch:  408  -  cost:  0.060559023  - MSE:  13.532190229433825 - Test accuracy:  0.9939394\n",
            "epoch:  409  -  cost:  0.060326416  - MSE:  13.690981955978717 - Test accuracy:  0.9939394\n",
            "epoch:  410  -  cost:  0.060071915  - MSE:  13.587052265209252 - Test accuracy:  0.9939394\n",
            "epoch:  411  -  cost:  0.059766997  - MSE:  13.71188697375406 - Test accuracy:  0.9939394\n",
            "epoch:  412  -  cost:  0.05958375  - MSE:  13.592782669605407 - Test accuracy:  0.9939394\n",
            "epoch:  413  -  cost:  0.059375215  - MSE:  13.736399802840424 - Test accuracy:  0.9939394\n",
            "epoch:  414  -  cost:  0.059170175  - MSE:  13.607257593948466 - Test accuracy:  0.9939394\n",
            "epoch:  415  -  cost:  0.058942374  - MSE:  13.759368226721275 - Test accuracy:  0.9939394\n"
          ],
          "name": "stdout"
        },
        {
          "output_type": "stream",
          "text": [
            "epoch:  416  -  cost:  0.058667436  - MSE:  13.671877493911232 - Test accuracy:  0.9939394\n",
            "epoch:  417  -  cost:  0.058410905  - MSE:  13.790990663177933 - Test accuracy:  0.9939394\n",
            "epoch:  418  -  cost:  0.05817206  - MSE:  13.674948557459599 - Test accuracy:  0.9939394\n",
            "epoch:  419  -  cost:  0.0579655  - MSE:  13.791790166207326 - Test accuracy:  0.9939394\n",
            "epoch:  420  -  cost:  0.057745013  - MSE:  13.693714734965061 - Test accuracy:  0.9939394\n",
            "epoch:  421  -  cost:  0.057488475  - MSE:  13.820085066813228 - Test accuracy:  0.9939394\n",
            "epoch:  422  -  cost:  0.057265062  - MSE:  13.705612821702474 - Test accuracy:  0.9939394\n",
            "epoch:  423  -  cost:  0.057033017  - MSE:  13.819159715088873 - Test accuracy:  0.9939394\n",
            "epoch:  424  -  cost:  0.05684536  - MSE:  13.72830920907618 - Test accuracy:  0.9939394\n",
            "epoch:  425  -  cost:  0.056611337  - MSE:  13.855996394842961 - Test accuracy:  0.9939394\n",
            "epoch:  426  -  cost:  0.056386318  - MSE:  13.742592572458147 - Test accuracy:  0.9939394\n",
            "epoch:  427  -  cost:  0.056159534  - MSE:  13.86539116823855 - Test accuracy:  0.9939394\n",
            "epoch:  428  -  cost:  0.05593249  - MSE:  13.782559374788748 - Test accuracy:  0.9939394\n",
            "epoch:  429  -  cost:  0.055766266  - MSE:  13.890565372573276 - Test accuracy:  0.9939394\n",
            "epoch:  430  -  cost:  0.055573534  - MSE:  13.767606035503698 - Test accuracy:  0.9939394\n",
            "epoch:  431  -  cost:  0.05536678  - MSE:  13.896277806530696 - Test accuracy:  0.9939394\n",
            "epoch:  432  -  cost:  0.05516853  - MSE:  13.81071895552861 - Test accuracy:  0.9939394\n",
            "epoch:  433  -  cost:  0.05495965  - MSE:  13.930904630795519 - Test accuracy:  0.9939394\n",
            "epoch:  434  -  cost:  0.05478836  - MSE:  13.826935517852684 - Test accuracy:  0.9939394\n",
            "epoch:  435  -  cost:  0.05456125  - MSE:  13.949019407790217 - Test accuracy:  0.9939394\n",
            "epoch:  436  -  cost:  0.054333415  - MSE:  13.845449724395761 - Test accuracy:  0.9939394\n",
            "epoch:  437  -  cost:  0.054100633  - MSE:  13.959525011870968 - Test accuracy:  0.9939394\n",
            "epoch:  438  -  cost:  0.053873457  - MSE:  13.858929546230202 - Test accuracy:  0.9939394\n",
            "epoch:  439  -  cost:  0.053699158  - MSE:  13.972243608941724 - Test accuracy:  0.9939394\n",
            "epoch:  440  -  cost:  0.053444896  - MSE:  13.896544615013521 - Test accuracy:  0.9939394\n",
            "epoch:  441  -  cost:  0.05331911  - MSE:  14.004129646026977 - Test accuracy:  0.9939394\n",
            "epoch:  442  -  cost:  0.05305848  - MSE:  13.93497856054304 - Test accuracy:  0.9939394\n",
            "epoch:  443  -  cost:  0.052852716  - MSE:  14.038843677474508 - Test accuracy:  0.9939394\n",
            "epoch:  444  -  cost:  0.052695695  - MSE:  13.954396168911273 - Test accuracy:  0.9939394\n",
            "epoch:  445  -  cost:  0.05250492  - MSE:  14.03338731756676 - Test accuracy:  0.9939394\n",
            "epoch:  446  -  cost:  0.052284468  - MSE:  13.973235435846298 - Test accuracy:  0.9939394\n",
            "epoch:  447  -  cost:  0.052138604  - MSE:  14.06953597160692 - Test accuracy:  0.9939394\n",
            "epoch:  448  -  cost:  0.05195673  - MSE:  13.988985414610186 - Test accuracy:  0.9939394\n",
            "epoch:  449  -  cost:  0.051766414  - MSE:  14.084770624743092 - Test accuracy:  0.9939394\n",
            "epoch:  450  -  cost:  0.051558536  - MSE:  14.001729738394541 - Test accuracy:  0.9939394\n",
            "epoch:  451  -  cost:  0.0513688  - MSE:  14.098043060603178 - Test accuracy:  0.9939394\n",
            "epoch:  452  -  cost:  0.051176153  - MSE:  14.027085093666003 - Test accuracy:  0.9939394\n",
            "epoch:  453  -  cost:  0.050942298  - MSE:  14.10762509942621 - Test accuracy:  0.9939394\n",
            "epoch:  454  -  cost:  0.05077373  - MSE:  14.057786384362357 - Test accuracy:  0.9939394\n",
            "epoch:  455  -  cost:  0.050594904  - MSE:  14.143078404181566 - Test accuracy:  0.9939394\n",
            "epoch:  456  -  cost:  0.05041309  - MSE:  14.093354195140941 - Test accuracy:  0.9939394\n",
            "epoch:  457  -  cost:  0.050245408  - MSE:  14.149317829999502 - Test accuracy:  0.9939394\n",
            "epoch:  458  -  cost:  0.050048742  - MSE:  14.110965657874901 - Test accuracy:  0.9939394\n",
            "epoch:  459  -  cost:  0.04990951  - MSE:  14.175633777509244 - Test accuracy:  0.9939394\n",
            "epoch:  460  -  cost:  0.049716968  - MSE:  14.109072594827065 - Test accuracy:  0.9939394\n",
            "epoch:  461  -  cost:  0.049549982  - MSE:  14.175673547217396 - Test accuracy:  0.9939394\n"
          ],
          "name": "stdout"
        },
        {
          "output_type": "stream",
          "text": [
            "epoch:  462  -  cost:  0.049330395  - MSE:  14.134304390456485 - Test accuracy:  0.9939394\n",
            "epoch:  463  -  cost:  0.04916229  - MSE:  14.22110450560123 - Test accuracy:  0.9939394\n",
            "epoch:  464  -  cost:  0.049038246  - MSE:  14.172087932676602 - Test accuracy:  0.9939394\n",
            "epoch:  465  -  cost:  0.04884609  - MSE:  14.21631905537525 - Test accuracy:  0.9939394\n",
            "epoch:  466  -  cost:  0.048714362  - MSE:  14.177804408049383 - Test accuracy:  0.9939394\n",
            "epoch:  467  -  cost:  0.048557263  - MSE:  14.256953733798664 - Test accuracy:  0.9939394\n",
            "epoch:  468  -  cost:  0.04846156  - MSE:  14.172241767869975 - Test accuracy:  0.9939394\n",
            "epoch:  469  -  cost:  0.048276093  - MSE:  14.264908854384405 - Test accuracy:  0.9939394\n",
            "epoch:  470  -  cost:  0.04812789  - MSE:  14.197119825566176 - Test accuracy:  0.9939394\n",
            "epoch:  471  -  cost:  0.04797138  - MSE:  14.288290870791684 - Test accuracy:  0.9939394\n",
            "epoch:  472  -  cost:  0.047793783  - MSE:  14.201810776641244 - Test accuracy:  0.9939394\n",
            "epoch:  473  -  cost:  0.047592275  - MSE:  14.311377501331998 - Test accuracy:  0.9939394\n",
            "epoch:  474  -  cost:  0.047462355  - MSE:  14.261564986716333 - Test accuracy:  0.9939394\n",
            "epoch:  475  -  cost:  0.047251575  - MSE:  14.342188031474453 - Test accuracy:  0.9939394\n",
            "epoch:  476  -  cost:  0.047149006  - MSE:  14.257488787286656 - Test accuracy:  0.9939394\n",
            "epoch:  477  -  cost:  0.04693177  - MSE:  14.345162755154108 - Test accuracy:  0.9939394\n",
            "epoch:  478  -  cost:  0.046762187  - MSE:  14.286124250686363 - Test accuracy:  0.9939394\n",
            "epoch:  479  -  cost:  0.046612866  - MSE:  14.362010857695592 - Test accuracy:  0.9939394\n",
            "epoch:  480  -  cost:  0.0464425  - MSE:  14.31585376656449 - Test accuracy:  0.9939394\n",
            "epoch:  481  -  cost:  0.04632149  - MSE:  14.378888345809964 - Test accuracy:  0.9939394\n",
            "epoch:  482  -  cost:  0.046154544  - MSE:  14.301648528284183 - Test accuracy:  1.0\n",
            "epoch:  483  -  cost:  0.045978468  - MSE:  14.397435476462585 - Test accuracy:  0.9939394\n",
            "epoch:  484  -  cost:  0.04583214  - MSE:  14.353819543186923 - Test accuracy:  1.0\n",
            "epoch:  485  -  cost:  0.04570187  - MSE:  14.426916437332896 - Test accuracy:  0.9939394\n",
            "epoch:  486  -  cost:  0.045572262  - MSE:  14.339891592694162 - Test accuracy:  1.0\n",
            "epoch:  487  -  cost:  0.045398902  - MSE:  14.423072499885118 - Test accuracy:  0.9939394\n",
            "epoch:  488  -  cost:  0.04525018  - MSE:  14.374551245597093 - Test accuracy:  1.0\n",
            "epoch:  489  -  cost:  0.045085  - MSE:  14.462527562112763 - Test accuracy:  0.9939394\n",
            "epoch:  490  -  cost:  0.04497855  - MSE:  14.37676219636402 - Test accuracy:  1.0\n",
            "epoch:  491  -  cost:  0.044811822  - MSE:  14.465117932408791 - Test accuracy:  0.9939394\n",
            "epoch:  492  -  cost:  0.04467868  - MSE:  14.414229942589852 - Test accuracy:  1.0\n",
            "epoch:  493  -  cost:  0.04452978  - MSE:  14.494019818820416 - Test accuracy:  0.9939394\n",
            "epoch:  494  -  cost:  0.044357814  - MSE:  14.414488130258034 - Test accuracy:  1.0\n",
            "epoch:  495  -  cost:  0.044192746  - MSE:  14.509439280901136 - Test accuracy:  0.9939394\n",
            "epoch:  496  -  cost:  0.044063736  - MSE:  14.44634199281566 - Test accuracy:  1.0\n",
            "epoch:  497  -  cost:  0.0439256  - MSE:  14.516222390343758 - Test accuracy:  0.9939394\n",
            "epoch:  498  -  cost:  0.043805044  - MSE:  14.453441471574646 - Test accuracy:  1.0\n",
            "epoch:  499  -  cost:  0.043642797  - MSE:  14.539616478352535 - Test accuracy:  0.9939394\n",
            "epoch:  500  -  cost:  0.043493457  - MSE:  14.481424481896733 - Test accuracy:  1.0\n",
            "epoch:  501  -  cost:  0.0433329  - MSE:  14.574454713996596 - Test accuracy:  1.0\n",
            "epoch:  502  -  cost:  0.04325277  - MSE:  14.500970392880467 - Test accuracy:  1.0\n",
            "epoch:  503  -  cost:  0.043086115  - MSE:  14.571900890113982 - Test accuracy:  1.0\n",
            "epoch:  504  -  cost:  0.04294132  - MSE:  14.52050023643212 - Test accuracy:  1.0\n",
            "epoch:  505  -  cost:  0.04279607  - MSE:  14.591354743627692 - Test accuracy:  1.0\n",
            "epoch:  506  -  cost:  0.042664543  - MSE:  14.541921587605216 - Test accuracy:  1.0\n",
            "epoch:  507  -  cost:  0.042567395  - MSE:  14.626386823217569 - Test accuracy:  1.0\n"
          ],
          "name": "stdout"
        },
        {
          "output_type": "stream",
          "text": [
            "epoch:  508  -  cost:  0.04241765  - MSE:  14.558674712610188 - Test accuracy:  1.0\n",
            "epoch:  509  -  cost:  0.042262018  - MSE:  14.634989453889629 - Test accuracy:  1.0\n",
            "epoch:  510  -  cost:  0.04215299  - MSE:  14.565050745175457 - Test accuracy:  1.0\n",
            "epoch:  511  -  cost:  0.042014334  - MSE:  14.65033359283673 - Test accuracy:  1.0\n",
            "epoch:  512  -  cost:  0.041893493  - MSE:  14.603072815796272 - Test accuracy:  1.0\n",
            "epoch:  513  -  cost:  0.041743275  - MSE:  14.678853049839777 - Test accuracy:  1.0\n",
            "epoch:  514  -  cost:  0.04165983  - MSE:  14.608185635249892 - Test accuracy:  1.0\n",
            "epoch:  515  -  cost:  0.041512225  - MSE:  14.69687500936414 - Test accuracy:  1.0\n",
            "epoch:  516  -  cost:  0.04140104  - MSE:  14.635907120171684 - Test accuracy:  1.0\n",
            "epoch:  517  -  cost:  0.041224  - MSE:  14.709679815830905 - Test accuracy:  1.0\n",
            "epoch:  518  -  cost:  0.041106768  - MSE:  14.644419978413778 - Test accuracy:  1.0\n",
            "epoch:  519  -  cost:  0.040948875  - MSE:  14.721202212937875 - Test accuracy:  1.0\n",
            "epoch:  520  -  cost:  0.040815875  - MSE:  14.681742787218385 - Test accuracy:  1.0\n",
            "epoch:  521  -  cost:  0.040672593  - MSE:  14.75308851112928 - Test accuracy:  1.0\n",
            "epoch:  522  -  cost:  0.04058401  - MSE:  14.687226037708857 - Test accuracy:  1.0\n",
            "epoch:  523  -  cost:  0.0404329  - MSE:  14.771530341716723 - Test accuracy:  1.0\n",
            "epoch:  524  -  cost:  0.040295415  - MSE:  14.722868486932 - Test accuracy:  1.0\n",
            "epoch:  525  -  cost:  0.04017609  - MSE:  14.7851528269078 - Test accuracy:  1.0\n",
            "epoch:  526  -  cost:  0.040061563  - MSE:  14.716054721615684 - Test accuracy:  1.0\n",
            "epoch:  527  -  cost:  0.03992989  - MSE:  14.798951355639181 - Test accuracy:  1.0\n",
            "epoch:  528  -  cost:  0.039813627  - MSE:  14.74747112620031 - Test accuracy:  1.0\n",
            "epoch:  529  -  cost:  0.03969233  - MSE:  14.822140138834905 - Test accuracy:  1.0\n",
            "epoch:  530  -  cost:  0.03959153  - MSE:  14.758539593525551 - Test accuracy:  1.0\n",
            "epoch:  531  -  cost:  0.039459635  - MSE:  14.833348095492592 - Test accuracy:  1.0\n",
            "epoch:  532  -  cost:  0.039360516  - MSE:  14.784634814556275 - Test accuracy:  1.0\n",
            "epoch:  533  -  cost:  0.03925878  - MSE:  14.856179728797102 - Test accuracy:  1.0\n",
            "epoch:  534  -  cost:  0.03917926  - MSE:  14.787292424108738 - Test accuracy:  1.0\n",
            "epoch:  535  -  cost:  0.03904336  - MSE:  14.869435374429361 - Test accuracy:  1.0\n",
            "epoch:  536  -  cost:  0.03892671  - MSE:  14.818178837527958 - Test accuracy:  1.0\n",
            "epoch:  537  -  cost:  0.038809493  - MSE:  14.891700509209489 - Test accuracy:  1.0\n",
            "epoch:  538  -  cost:  0.038679592  - MSE:  14.808978678406566 - Test accuracy:  1.0\n",
            "epoch:  539  -  cost:  0.03849768  - MSE:  14.892284971825612 - Test accuracy:  1.0\n",
            "epoch:  540  -  cost:  0.03839902  - MSE:  14.841022048459235 - Test accuracy:  1.0\n",
            "epoch:  541  -  cost:  0.038236275  - MSE:  14.898351565239224 - Test accuracy:  1.0\n",
            "epoch:  542  -  cost:  0.038122512  - MSE:  14.840765016648376 - Test accuracy:  1.0\n",
            "epoch:  543  -  cost:  0.038007658  - MSE:  14.921668018552406 - Test accuracy:  1.0\n",
            "epoch:  544  -  cost:  0.037896622  - MSE:  14.882066223660683 - Test accuracy:  1.0\n",
            "epoch:  545  -  cost:  0.03782178  - MSE:  14.930782721363098 - Test accuracy:  1.0\n",
            "epoch:  546  -  cost:  0.037766274  - MSE:  14.87379434674235 - Test accuracy:  1.0\n",
            "epoch:  547  -  cost:  0.037635088  - MSE:  14.944637314302684 - Test accuracy:  1.0\n",
            "epoch:  548  -  cost:  0.037530806  - MSE:  14.88870269078286 - Test accuracy:  1.0\n",
            "epoch:  549  -  cost:  0.037378136  - MSE:  14.958304374847796 - Test accuracy:  1.0\n",
            "epoch:  550  -  cost:  0.037285868  - MSE:  14.893838291058506 - Test accuracy:  1.0\n",
            "epoch:  551  -  cost:  0.03715531  - MSE:  14.963968197157063 - Test accuracy:  1.0\n",
            "epoch:  552  -  cost:  0.036996745  - MSE:  14.924849853268851 - Test accuracy:  1.0\n",
            "epoch:  553  -  cost:  0.036939703  - MSE:  14.985356521617142 - Test accuracy:  1.0\n",
            "epoch:  554  -  cost:  0.036837645  - MSE:  14.923117573844493 - Test accuracy:  1.0\n",
            "epoch:  555  -  cost:  0.036756735  - MSE:  14.990328410038481 - Test accuracy:  1.0\n"
          ],
          "name": "stdout"
        },
        {
          "output_type": "stream",
          "text": [
            "epoch:  556  -  cost:  0.03663019  - MSE:  14.949652197697912 - Test accuracy:  1.0\n",
            "epoch:  557  -  cost:  0.036531847  - MSE:  15.01072576560928 - Test accuracy:  1.0\n",
            "epoch:  558  -  cost:  0.036430854  - MSE:  14.961650969777782 - Test accuracy:  1.0\n",
            "epoch:  559  -  cost:  0.036307126  - MSE:  15.02172358828069 - Test accuracy:  1.0\n",
            "epoch:  560  -  cost:  0.036227606  - MSE:  14.975522741527 - Test accuracy:  1.0\n",
            "epoch:  561  -  cost:  0.036083654  - MSE:  15.055167970317646 - Test accuracy:  1.0\n",
            "epoch:  562  -  cost:  0.035999026  - MSE:  14.988350663763992 - Test accuracy:  1.0\n",
            "epoch:  563  -  cost:  0.03586972  - MSE:  15.048155287511705 - Test accuracy:  1.0\n",
            "epoch:  564  -  cost:  0.03576399  - MSE:  15.007254932891643 - Test accuracy:  1.0\n",
            "epoch:  565  -  cost:  0.03565989  - MSE:  15.056011997991343 - Test accuracy:  1.0\n",
            "epoch:  566  -  cost:  0.035575636  - MSE:  15.008012536446266 - Test accuracy:  1.0\n",
            "epoch:  567  -  cost:  0.035456214  - MSE:  15.074509444910166 - Test accuracy:  1.0\n",
            "epoch:  568  -  cost:  0.035351794  - MSE:  15.037123946611809 - Test accuracy:  1.0\n",
            "epoch:  569  -  cost:  0.035244986  - MSE:  15.100311799676046 - Test accuracy:  1.0\n",
            "epoch:  570  -  cost:  0.03517377  - MSE:  15.037666763689046 - Test accuracy:  1.0\n",
            "epoch:  571  -  cost:  0.035070993  - MSE:  15.104582497544827 - Test accuracy:  1.0\n",
            "epoch:  572  -  cost:  0.034958318  - MSE:  15.064727485456965 - Test accuracy:  1.0\n",
            "epoch:  573  -  cost:  0.034866866  - MSE:  15.117678534573681 - Test accuracy:  1.0\n",
            "epoch:  574  -  cost:  0.034778424  - MSE:  15.053093439861977 - Test accuracy:  1.0\n",
            "epoch:  575  -  cost:  0.03466608  - MSE:  15.122664986801153 - Test accuracy:  1.0\n",
            "epoch:  576  -  cost:  0.034597546  - MSE:  15.065676925167613 - Test accuracy:  1.0\n",
            "epoch:  577  -  cost:  0.03447675  - MSE:  15.131252390451735 - Test accuracy:  1.0\n",
            "epoch:  578  -  cost:  0.03440845  - MSE:  15.090279846926776 - Test accuracy:  1.0\n",
            "epoch:  579  -  cost:  0.034288477  - MSE:  15.153227032465365 - Test accuracy:  1.0\n",
            "epoch:  580  -  cost:  0.034179743  - MSE:  15.102392456857537 - Test accuracy:  1.0\n",
            "epoch:  581  -  cost:  0.034047216  - MSE:  15.167598217005185 - Test accuracy:  1.0\n",
            "epoch:  582  -  cost:  0.033984087  - MSE:  15.126836623307586 - Test accuracy:  1.0\n",
            "epoch:  583  -  cost:  0.033868864  - MSE:  15.182796835666043 - Test accuracy:  1.0\n",
            "epoch:  584  -  cost:  0.033810806  - MSE:  15.124387237312524 - Test accuracy:  1.0\n",
            "epoch:  585  -  cost:  0.03370126  - MSE:  15.190282801719645 - Test accuracy:  1.0\n",
            "epoch:  586  -  cost:  0.033620562  - MSE:  15.147474025873965 - Test accuracy:  1.0\n",
            "epoch:  587  -  cost:  0.033500563  - MSE:  15.19630590560035 - Test accuracy:  1.0\n",
            "epoch:  588  -  cost:  0.03344513  - MSE:  15.153953195558586 - Test accuracy:  1.0\n",
            "epoch:  589  -  cost:  0.03330887  - MSE:  15.217656764782419 - Test accuracy:  1.0\n",
            "epoch:  590  -  cost:  0.033214554  - MSE:  15.176100236485164 - Test accuracy:  1.0\n",
            "epoch:  591  -  cost:  0.033125002  - MSE:  15.234678846954218 - Test accuracy:  1.0\n",
            "epoch:  592  -  cost:  0.033019613  - MSE:  15.169477182769512 - Test accuracy:  1.0\n",
            "epoch:  593  -  cost:  0.03293085  - MSE:  15.22965644960686 - Test accuracy:  1.0\n",
            "epoch:  594  -  cost:  0.03282308  - MSE:  15.204227026841362 - Test accuracy:  1.0\n",
            "epoch:  595  -  cost:  0.032720406  - MSE:  15.254277430288496 - Test accuracy:  1.0\n",
            "epoch:  596  -  cost:  0.032634266  - MSE:  15.202394271192182 - Test accuracy:  1.0\n",
            "epoch:  597  -  cost:  0.03254096  - MSE:  15.25780848101711 - Test accuracy:  1.0\n",
            "epoch:  598  -  cost:  0.03247248  - MSE:  15.2389495844597 - Test accuracy:  1.0\n",
            "epoch:  599  -  cost:  0.03239525  - MSE:  15.28361056821852 - Test accuracy:  1.0\n",
            "epoch:  600  -  cost:  0.032320466  - MSE:  15.2277202006935 - Test accuracy:  1.0\n",
            "epoch:  601  -  cost:  0.032214917  - MSE:  15.295932425484263 - Test accuracy:  1.0\n",
            "epoch:  602  -  cost:  0.032120623  - MSE:  15.255185701264699 - Test accuracy:  1.0\n",
            "epoch:  603  -  cost:  0.03202366  - MSE:  15.305856613368633 - Test accuracy:  1.0\n"
          ],
          "name": "stdout"
        },
        {
          "output_type": "stream",
          "text": [
            "epoch:  604  -  cost:  0.031965174  - MSE:  15.255908591667932 - Test accuracy:  1.0\n",
            "epoch:  605  -  cost:  0.0318848  - MSE:  15.313008218234526 - Test accuracy:  1.0\n",
            "epoch:  606  -  cost:  0.03181422  - MSE:  15.28687137588678 - Test accuracy:  1.0\n",
            "epoch:  607  -  cost:  0.03171221  - MSE:  15.333990787058172 - Test accuracy:  1.0\n",
            "epoch:  608  -  cost:  0.031642053  - MSE:  15.284707434370164 - Test accuracy:  1.0\n",
            "epoch:  609  -  cost:  0.031529646  - MSE:  15.341337437071756 - Test accuracy:  1.0\n",
            "epoch:  610  -  cost:  0.031466868  - MSE:  15.309128859006567 - Test accuracy:  1.0\n",
            "epoch:  611  -  cost:  0.03136227  - MSE:  15.35628597423286 - Test accuracy:  1.0\n",
            "epoch:  612  -  cost:  0.031296756  - MSE:  15.306538139144479 - Test accuracy:  1.0\n",
            "epoch:  613  -  cost:  0.03120346  - MSE:  15.358650829684157 - Test accuracy:  1.0\n",
            "epoch:  614  -  cost:  0.031122584  - MSE:  15.317887345430517 - Test accuracy:  1.0\n",
            "epoch:  615  -  cost:  0.03101921  - MSE:  15.375582048498302 - Test accuracy:  1.0\n",
            "epoch:  616  -  cost:  0.030962598  - MSE:  15.348975876977565 - Test accuracy:  1.0\n",
            "epoch:  617  -  cost:  0.030844368  - MSE:  15.387367316109302 - Test accuracy:  1.0\n",
            "epoch:  618  -  cost:  0.030781033  - MSE:  15.359289188158444 - Test accuracy:  1.0\n",
            "epoch:  619  -  cost:  0.030675448  - MSE:  15.40395382945198 - Test accuracy:  1.0\n",
            "epoch:  620  -  cost:  0.030620107  - MSE:  15.373952462805294 - Test accuracy:  1.0\n",
            "epoch:  621  -  cost:  0.030533737  - MSE:  15.422913850653842 - Test accuracy:  1.0\n",
            "epoch:  622  -  cost:  0.030474631  - MSE:  15.392378001265845 - Test accuracy:  1.0\n",
            "epoch:  623  -  cost:  0.030375497  - MSE:  15.43884350741826 - Test accuracy:  1.0\n",
            "epoch:  624  -  cost:  0.03033516  - MSE:  15.392301222081821 - Test accuracy:  1.0\n",
            "epoch:  625  -  cost:  0.030230178  - MSE:  15.451889148120575 - Test accuracy:  1.0\n",
            "epoch:  626  -  cost:  0.030149534  - MSE:  15.417574202473066 - Test accuracy:  1.0\n",
            "epoch:  627  -  cost:  0.030054301  - MSE:  15.463675316678083 - Test accuracy:  1.0\n",
            "epoch:  628  -  cost:  0.029978814  - MSE:  15.427882955779001 - Test accuracy:  1.0\n",
            "epoch:  629  -  cost:  0.029870808  - MSE:  15.486512291007257 - Test accuracy:  1.0\n",
            "epoch:  630  -  cost:  0.02981611  - MSE:  15.445141281080582 - Test accuracy:  1.0\n",
            "epoch:  631  -  cost:  0.029726347  - MSE:  15.498938805750024 - Test accuracy:  1.0\n",
            "epoch:  632  -  cost:  0.029648932  - MSE:  15.472979899123997 - Test accuracy:  1.0\n",
            "epoch:  633  -  cost:  0.029582914  - MSE:  15.514280173739973 - Test accuracy:  1.0\n",
            "epoch:  634  -  cost:  0.02950671  - MSE:  15.493569344448645 - Test accuracy:  1.0\n",
            "epoch:  635  -  cost:  0.029426403  - MSE:  15.510974151903302 - Test accuracy:  1.0\n",
            "epoch:  636  -  cost:  0.029366162  - MSE:  15.500223078148327 - Test accuracy:  1.0\n",
            "epoch:  637  -  cost:  0.029285667  - MSE:  15.541813493360435 - Test accuracy:  1.0\n",
            "epoch:  638  -  cost:  0.029212799  - MSE:  15.50290519901441 - Test accuracy:  1.0\n",
            "epoch:  639  -  cost:  0.029117698  - MSE:  15.554156878023147 - Test accuracy:  1.0\n",
            "epoch:  640  -  cost:  0.029045263  - MSE:  15.518313733750054 - Test accuracy:  1.0\n",
            "epoch:  641  -  cost:  0.028954512  - MSE:  15.555356216266839 - Test accuracy:  1.0\n",
            "epoch:  642  -  cost:  0.028898528  - MSE:  15.527571006087804 - Test accuracy:  1.0\n",
            "epoch:  643  -  cost:  0.028818382  - MSE:  15.57120908671494 - Test accuracy:  1.0\n",
            "epoch:  644  -  cost:  0.028774513  - MSE:  15.542269827167766 - Test accuracy:  1.0\n",
            "epoch:  645  -  cost:  0.028685214  - MSE:  15.581951485861325 - Test accuracy:  1.0\n",
            "epoch:  646  -  cost:  0.028642446  - MSE:  15.535790561284475 - Test accuracy:  1.0\n",
            "epoch:  647  -  cost:  0.028525375  - MSE:  15.582525064807479 - Test accuracy:  1.0\n",
            "epoch:  648  -  cost:  0.028457252  - MSE:  15.564146346119287 - Test accuracy:  1.0\n",
            "epoch:  649  -  cost:  0.028374668  - MSE:  15.585674061419105 - Test accuracy:  1.0\n",
            "epoch:  650  -  cost:  0.02830422  - MSE:  15.563911171274853 - Test accuracy:  1.0\n",
            "epoch:  651  -  cost:  0.028215654  - MSE:  15.606922329749688 - Test accuracy:  1.0\n"
          ],
          "name": "stdout"
        },
        {
          "output_type": "stream",
          "text": [
            "epoch:  652  -  cost:  0.028163187  - MSE:  15.569570653086165 - Test accuracy:  1.0\n",
            "epoch:  653  -  cost:  0.028075105  - MSE:  15.621864871762615 - Test accuracy:  1.0\n",
            "epoch:  654  -  cost:  0.028010944  - MSE:  15.59860552749191 - Test accuracy:  1.0\n",
            "epoch:  655  -  cost:  0.02794114  - MSE:  15.622955080711304 - Test accuracy:  1.0\n",
            "epoch:  656  -  cost:  0.027868155  - MSE:  15.615479988835153 - Test accuracy:  1.0\n",
            "epoch:  657  -  cost:  0.0277999  - MSE:  15.648969933274797 - Test accuracy:  1.0\n",
            "epoch:  658  -  cost:  0.0277411  - MSE:  15.616106757437034 - Test accuracy:  1.0\n",
            "epoch:  659  -  cost:  0.027669163  - MSE:  15.660717035153132 - Test accuracy:  1.0\n",
            "epoch:  660  -  cost:  0.027607566  - MSE:  15.644986612820535 - Test accuracy:  1.0\n",
            "epoch:  661  -  cost:  0.027528752  - MSE:  15.687397368313043 - Test accuracy:  1.0\n",
            "epoch:  662  -  cost:  0.027450914  - MSE:  15.64005060721918 - Test accuracy:  1.0\n",
            "epoch:  663  -  cost:  0.027369194  - MSE:  15.689590136027418 - Test accuracy:  1.0\n",
            "epoch:  664  -  cost:  0.027304387  - MSE:  15.680103087210925 - Test accuracy:  1.0\n",
            "epoch:  665  -  cost:  0.027227968  - MSE:  15.696787172543845 - Test accuracy:  1.0\n",
            "epoch:  666  -  cost:  0.02715987  - MSE:  15.681951099781703 - Test accuracy:  1.0\n",
            "epoch:  667  -  cost:  0.027103266  - MSE:  15.708264393096426 - Test accuracy:  1.0\n",
            "epoch:  668  -  cost:  0.027047617  - MSE:  15.694346527527605 - Test accuracy:  1.0\n",
            "epoch:  669  -  cost:  0.026976319  - MSE:  15.730742104881362 - Test accuracy:  1.0\n",
            "epoch:  670  -  cost:  0.026900448  - MSE:  15.71123912382488 - Test accuracy:  1.0\n",
            "epoch:  671  -  cost:  0.026838833  - MSE:  15.743120834290245 - Test accuracy:  1.0\n",
            "epoch:  672  -  cost:  0.026781311  - MSE:  15.713857428542903 - Test accuracy:  1.0\n",
            "epoch:  673  -  cost:  0.026702661  - MSE:  15.763506583039705 - Test accuracy:  1.0\n",
            "epoch:  674  -  cost:  0.026642967  - MSE:  15.729856466762001 - Test accuracy:  1.0\n",
            "epoch:  675  -  cost:  0.026576184  - MSE:  15.754866729845233 - Test accuracy:  1.0\n",
            "epoch:  676  -  cost:  0.026493916  - MSE:  15.772445274198954 - Test accuracy:  1.0\n",
            "epoch:  677  -  cost:  0.026438588  - MSE:  15.789607662456152 - Test accuracy:  1.0\n",
            "epoch:  678  -  cost:  0.02638886  - MSE:  15.762603368735162 - Test accuracy:  1.0\n",
            "epoch:  679  -  cost:  0.026319703  - MSE:  15.805143275802115 - Test accuracy:  1.0\n",
            "epoch:  680  -  cost:  0.026265437  - MSE:  15.777384516363497 - Test accuracy:  1.0\n",
            "epoch:  681  -  cost:  0.026188836  - MSE:  15.805956723274257 - Test accuracy:  1.0\n",
            "epoch:  682  -  cost:  0.026149398  - MSE:  15.791659664507831 - Test accuracy:  1.0\n",
            "epoch:  683  -  cost:  0.026065899  - MSE:  15.825616564856567 - Test accuracy:  1.0\n",
            "epoch:  684  -  cost:  0.026012875  - MSE:  15.80242481542091 - Test accuracy:  1.0\n",
            "epoch:  685  -  cost:  0.025949217  - MSE:  15.838364709449095 - Test accuracy:  1.0\n",
            "epoch:  686  -  cost:  0.02588207  - MSE:  15.821819548923978 - Test accuracy:  1.0\n",
            "epoch:  687  -  cost:  0.025813537  - MSE:  15.858564729838669 - Test accuracy:  1.0\n",
            "epoch:  688  -  cost:  0.02575738  - MSE:  15.821865527235238 - Test accuracy:  1.0\n",
            "epoch:  689  -  cost:  0.025672173  - MSE:  15.86575827845307 - Test accuracy:  1.0\n",
            "epoch:  690  -  cost:  0.025627555  - MSE:  15.869940179783354 - Test accuracy:  1.0\n",
            "epoch:  691  -  cost:  0.025555769  - MSE:  15.872674096047714 - Test accuracy:  1.0\n",
            "epoch:  692  -  cost:  0.025486374  - MSE:  15.868700309960136 - Test accuracy:  1.0\n",
            "epoch:  693  -  cost:  0.025431205  - MSE:  15.893763442736102 - Test accuracy:  1.0\n",
            "epoch:  694  -  cost:  0.025366703  - MSE:  15.881595521755385 - Test accuracy:  1.0\n",
            "epoch:  695  -  cost:  0.025296777  - MSE:  15.901341903034549 - Test accuracy:  1.0\n",
            "epoch:  696  -  cost:  0.02524356  - MSE:  15.902507873734088 - Test accuracy:  1.0\n",
            "epoch:  697  -  cost:  0.025175525  - MSE:  15.93097423940449 - Test accuracy:  1.0\n",
            "epoch:  698  -  cost:  0.025134232  - MSE:  15.902710546781801 - Test accuracy:  1.0\n",
            "epoch:  699  -  cost:  0.025060516  - MSE:  15.933100718662393 - Test accuracy:  1.0\n"
          ],
          "name": "stdout"
        },
        {
          "output_type": "stream",
          "text": [
            "epoch:  700  -  cost:  0.025000867  - MSE:  15.950413690738221 - Test accuracy:  1.0\n",
            "epoch:  701  -  cost:  0.02494534  - MSE:  15.950593037800978 - Test accuracy:  1.0\n",
            "epoch:  702  -  cost:  0.024886953  - MSE:  15.939260052306363 - Test accuracy:  1.0\n",
            "epoch:  703  -  cost:  0.02482495  - MSE:  15.964583576463175 - Test accuracy:  1.0\n",
            "epoch:  704  -  cost:  0.02477015  - MSE:  15.96234198969008 - Test accuracy:  1.0\n",
            "epoch:  705  -  cost:  0.024705447  - MSE:  15.977789132497465 - Test accuracy:  1.0\n",
            "epoch:  706  -  cost:  0.024657313  - MSE:  15.97054350024979 - Test accuracy:  1.0\n",
            "epoch:  707  -  cost:  0.024605053  - MSE:  15.993772466926028 - Test accuracy:  1.0\n",
            "epoch:  708  -  cost:  0.024562782  - MSE:  15.967718762750998 - Test accuracy:  1.0\n",
            "epoch:  709  -  cost:  0.024489556  - MSE:  16.013562967545436 - Test accuracy:  1.0\n",
            "epoch:  710  -  cost:  0.02444009  - MSE:  16.013184500981854 - Test accuracy:  1.0\n",
            "epoch:  711  -  cost:  0.024387717  - MSE:  16.04108451882464 - Test accuracy:  1.0\n",
            "epoch:  712  -  cost:  0.02432938  - MSE:  16.008041891092116 - Test accuracy:  1.0\n",
            "epoch:  713  -  cost:  0.024276776  - MSE:  16.042757667234135 - Test accuracy:  1.0\n",
            "epoch:  714  -  cost:  0.024215762  - MSE:  16.02905456869098 - Test accuracy:  1.0\n",
            "epoch:  715  -  cost:  0.024156215  - MSE:  16.047740552080672 - Test accuracy:  1.0\n",
            "epoch:  716  -  cost:  0.024100257  - MSE:  16.036104765872263 - Test accuracy:  1.0\n",
            "epoch:  717  -  cost:  0.02403718  - MSE:  16.07322510512313 - Test accuracy:  1.0\n",
            "epoch:  718  -  cost:  0.023983391  - MSE:  16.041734023209735 - Test accuracy:  1.0\n",
            "epoch:  719  -  cost:  0.023918293  - MSE:  16.082173306895854 - Test accuracy:  1.0\n",
            "epoch:  720  -  cost:  0.023870284  - MSE:  16.074379143868814 - Test accuracy:  1.0\n",
            "epoch:  721  -  cost:  0.02380619  - MSE:  16.092443626470715 - Test accuracy:  1.0\n",
            "epoch:  722  -  cost:  0.023756005  - MSE:  16.077700938088995 - Test accuracy:  1.0\n",
            "epoch:  723  -  cost:  0.023695434  - MSE:  16.102432441356342 - Test accuracy:  1.0\n",
            "epoch:  724  -  cost:  0.023649102  - MSE:  16.102815489803476 - Test accuracy:  1.0\n",
            "epoch:  725  -  cost:  0.02358313  - MSE:  16.117799018983792 - Test accuracy:  1.0\n",
            "epoch:  726  -  cost:  0.023542926  - MSE:  16.10907390586255 - Test accuracy:  1.0\n",
            "epoch:  727  -  cost:  0.023482623  - MSE:  16.11888262767148 - Test accuracy:  1.0\n",
            "epoch:  728  -  cost:  0.023423972  - MSE:  16.13505247816816 - Test accuracy:  1.0\n",
            "epoch:  729  -  cost:  0.023370188  - MSE:  16.145379658299674 - Test accuracy:  1.0\n",
            "epoch:  730  -  cost:  0.023327183  - MSE:  16.123811764425405 - Test accuracy:  1.0\n",
            "epoch:  731  -  cost:  0.02328285  - MSE:  16.15221865326211 - Test accuracy:  1.0\n",
            "epoch:  732  -  cost:  0.02322001  - MSE:  16.157914335289313 - Test accuracy:  1.0\n",
            "epoch:  733  -  cost:  0.023179619  - MSE:  16.173924909754202 - Test accuracy:  1.0\n",
            "epoch:  734  -  cost:  0.023134233  - MSE:  16.148430486133357 - Test accuracy:  1.0\n",
            "epoch:  735  -  cost:  0.023073988  - MSE:  16.183643429354042 - Test accuracy:  1.0\n",
            "epoch:  736  -  cost:  0.023023942  - MSE:  16.170296474720544 - Test accuracy:  1.0\n",
            "epoch:  737  -  cost:  0.02296989  - MSE:  16.188158832579283 - Test accuracy:  1.0\n",
            "epoch:  738  -  cost:  0.022913415  - MSE:  16.178250577231683 - Test accuracy:  1.0\n",
            "epoch:  739  -  cost:  0.022861406  - MSE:  16.215030790421377 - Test accuracy:  1.0\n",
            "epoch:  740  -  cost:  0.022815878  - MSE:  16.199144968564934 - Test accuracy:  1.0\n",
            "epoch:  741  -  cost:  0.02275021  - MSE:  16.237202752195135 - Test accuracy:  1.0\n",
            "epoch:  742  -  cost:  0.022706836  - MSE:  16.218669254699638 - Test accuracy:  1.0\n",
            "epoch:  743  -  cost:  0.022665635  - MSE:  16.241324305859326 - Test accuracy:  1.0\n",
            "epoch:  744  -  cost:  0.022611871  - MSE:  16.221472563563918 - Test accuracy:  1.0\n",
            "epoch:  745  -  cost:  0.022561379  - MSE:  16.245303179766083 - Test accuracy:  1.0\n",
            "epoch:  746  -  cost:  0.02250623  - MSE:  16.23688672848543 - Test accuracy:  1.0\n",
            "epoch:  747  -  cost:  0.022451807  - MSE:  16.2634979853966 - Test accuracy:  1.0\n"
          ],
          "name": "stdout"
        },
        {
          "output_type": "stream",
          "text": [
            "epoch:  748  -  cost:  0.022410162  - MSE:  16.234652360180707 - Test accuracy:  1.0\n",
            "epoch:  749  -  cost:  0.022344287  - MSE:  16.26980599773532 - Test accuracy:  1.0\n",
            "epoch:  750  -  cost:  0.022297975  - MSE:  16.276621914793456 - Test accuracy:  1.0\n",
            "epoch:  751  -  cost:  0.022255352  - MSE:  16.27363677656397 - Test accuracy:  1.0\n",
            "epoch:  752  -  cost:  0.0222025  - MSE:  16.272825180306548 - Test accuracy:  1.0\n",
            "epoch:  753  -  cost:  0.022152072  - MSE:  16.300209020557197 - Test accuracy:  1.0\n",
            "epoch:  754  -  cost:  0.022108927  - MSE:  16.29308140471299 - Test accuracy:  1.0\n",
            "epoch:  755  -  cost:  0.022047728  - MSE:  16.306840479985464 - Test accuracy:  1.0\n",
            "epoch:  756  -  cost:  0.022007314  - MSE:  16.304176648625486 - Test accuracy:  1.0\n",
            "epoch:  757  -  cost:  0.021960821  - MSE:  16.31167074576235 - Test accuracy:  1.0\n",
            "epoch:  758  -  cost:  0.02190547  - MSE:  16.329596819607506 - Test accuracy:  1.0\n",
            "epoch:  759  -  cost:  0.021864558  - MSE:  16.3337583070666 - Test accuracy:  1.0\n",
            "epoch:  760  -  cost:  0.02182036  - MSE:  16.314251654024517 - Test accuracy:  1.0\n",
            "epoch:  761  -  cost:  0.021767063  - MSE:  16.34317673596275 - Test accuracy:  1.0\n",
            "epoch:  762  -  cost:  0.021719117  - MSE:  16.329762927724225 - Test accuracy:  1.0\n",
            "epoch:  763  -  cost:  0.021670107  - MSE:  16.354987560619737 - Test accuracy:  1.0\n",
            "epoch:  764  -  cost:  0.021624548  - MSE:  16.356698371694225 - Test accuracy:  1.0\n",
            "epoch:  765  -  cost:  0.021570303  - MSE:  16.366104683248025 - Test accuracy:  1.0\n",
            "epoch:  766  -  cost:  0.021529255  - MSE:  16.384359987638422 - Test accuracy:  1.0\n",
            "epoch:  767  -  cost:  0.021488426  - MSE:  16.357302981501427 - Test accuracy:  1.0\n",
            "epoch:  768  -  cost:  0.021432977  - MSE:  16.388839817692695 - Test accuracy:  1.0\n",
            "epoch:  769  -  cost:  0.021401886  - MSE:  16.3972149854318 - Test accuracy:  1.0\n",
            "epoch:  770  -  cost:  0.021357056  - MSE:  16.3773678202559 - Test accuracy:  1.0\n",
            "epoch:  771  -  cost:  0.021309985  - MSE:  16.406689686587228 - Test accuracy:  1.0\n",
            "epoch:  772  -  cost:  0.02126974  - MSE:  16.39167821905725 - Test accuracy:  1.0\n",
            "epoch:  773  -  cost:  0.021218503  - MSE:  16.412512099172517 - Test accuracy:  1.0\n",
            "epoch:  774  -  cost:  0.02117361  - MSE:  16.40576447792161 - Test accuracy:  1.0\n",
            "epoch:  775  -  cost:  0.02113187  - MSE:  16.432636051819173 - Test accuracy:  1.0\n",
            "epoch:  776  -  cost:  0.021077292  - MSE:  16.423754466729548 - Test accuracy:  1.0\n",
            "epoch:  777  -  cost:  0.021036131  - MSE:  16.456729158700753 - Test accuracy:  1.0\n",
            "epoch:  778  -  cost:  0.020990781  - MSE:  16.437053715547677 - Test accuracy:  1.0\n",
            "epoch:  779  -  cost:  0.020941477  - MSE:  16.464456891656123 - Test accuracy:  1.0\n",
            "epoch:  780  -  cost:  0.020901266  - MSE:  16.437043523705274 - Test accuracy:  1.0\n",
            "epoch:  781  -  cost:  0.020845404  - MSE:  16.471401919726688 - Test accuracy:  1.0\n",
            "epoch:  782  -  cost:  0.020804962  - MSE:  16.4579567688448 - Test accuracy:  1.0\n",
            "epoch:  783  -  cost:  0.020757524  - MSE:  16.470533116925363 - Test accuracy:  1.0\n",
            "epoch:  784  -  cost:  0.020715019  - MSE:  16.474752740099543 - Test accuracy:  1.0\n",
            "epoch:  785  -  cost:  0.020672828  - MSE:  16.491372229217994 - Test accuracy:  1.0\n",
            "epoch:  786  -  cost:  0.020629931  - MSE:  16.47245094475211 - Test accuracy:  1.0\n",
            "epoch:  787  -  cost:  0.020585546  - MSE:  16.501002758704864 - Test accuracy:  1.0\n",
            "epoch:  788  -  cost:  0.020547707  - MSE:  16.48979728537771 - Test accuracy:  1.0\n",
            "epoch:  789  -  cost:  0.020505792  - MSE:  16.51373981688195 - Test accuracy:  1.0\n",
            "epoch:  790  -  cost:  0.020460095  - MSE:  16.503768345251522 - Test accuracy:  1.0\n",
            "epoch:  791  -  cost:  0.020415997  - MSE:  16.527599967830334 - Test accuracy:  1.0\n",
            "epoch:  792  -  cost:  0.020369152  - MSE:  16.51570888770125 - Test accuracy:  1.0\n",
            "epoch:  793  -  cost:  0.020320619  - MSE:  16.532860946800383 - Test accuracy:  1.0\n",
            "epoch:  794  -  cost:  0.020281306  - MSE:  16.541832347679012 - Test accuracy:  1.0\n",
            "epoch:  795  -  cost:  0.020238683  - MSE:  16.55746313307322 - Test accuracy:  1.0\n"
          ],
          "name": "stdout"
        },
        {
          "output_type": "stream",
          "text": [
            "epoch:  796  -  cost:  0.020200904  - MSE:  16.534127537364395 - Test accuracy:  1.0\n",
            "epoch:  797  -  cost:  0.02016779  - MSE:  16.560529385278624 - Test accuracy:  1.0\n",
            "epoch:  798  -  cost:  0.020121112  - MSE:  16.550740135611075 - Test accuracy:  1.0\n",
            "epoch:  799  -  cost:  0.020068867  - MSE:  16.565379987550937 - Test accuracy:  1.0\n",
            "epoch:  800  -  cost:  0.02002904  - MSE:  16.565854506002136 - Test accuracy:  1.0\n",
            "epoch:  801  -  cost:  0.019987065  - MSE:  16.59094804230483 - Test accuracy:  1.0\n",
            "epoch:  802  -  cost:  0.019947324  - MSE:  16.56562098134756 - Test accuracy:  1.0\n",
            "epoch:  803  -  cost:  0.019914089  - MSE:  16.59123658977982 - Test accuracy:  1.0\n",
            "epoch:  804  -  cost:  0.019871186  - MSE:  16.57584329758716 - Test accuracy:  1.0\n",
            "epoch:  805  -  cost:  0.019827165  - MSE:  16.605499309793565 - Test accuracy:  1.0\n",
            "epoch:  806  -  cost:  0.019784821  - MSE:  16.576056826329197 - Test accuracy:  1.0\n",
            "epoch:  807  -  cost:  0.01973037  - MSE:  16.60895729849388 - Test accuracy:  1.0\n",
            "epoch:  808  -  cost:  0.019693164  - MSE:  16.614255129769894 - Test accuracy:  1.0\n",
            "epoch:  809  -  cost:  0.019651797  - MSE:  16.61384264480345 - Test accuracy:  1.0\n",
            "epoch:  810  -  cost:  0.019609774  - MSE:  16.609650185505437 - Test accuracy:  1.0\n",
            "epoch:  811  -  cost:  0.019571822  - MSE:  16.632582406734198 - Test accuracy:  1.0\n",
            "epoch:  812  -  cost:  0.019529687  - MSE:  16.632067726889694 - Test accuracy:  1.0\n",
            "epoch:  813  -  cost:  0.019484708  - MSE:  16.638353988624495 - Test accuracy:  1.0\n",
            "epoch:  814  -  cost:  0.019446071  - MSE:  16.650470366160913 - Test accuracy:  1.0\n",
            "epoch:  815  -  cost:  0.019407567  - MSE:  16.649479610954547 - Test accuracy:  1.0\n",
            "epoch:  816  -  cost:  0.019367086  - MSE:  16.640642926691037 - Test accuracy:  1.0\n",
            "epoch:  817  -  cost:  0.019323183  - MSE:  16.66725166133933 - Test accuracy:  1.0\n",
            "epoch:  818  -  cost:  0.019287473  - MSE:  16.662037929927283 - Test accuracy:  1.0\n",
            "epoch:  819  -  cost:  0.019242723  - MSE:  16.67184509229615 - Test accuracy:  1.0\n",
            "epoch:  820  -  cost:  0.019202564  - MSE:  16.68432773713841 - Test accuracy:  1.0\n",
            "epoch:  821  -  cost:  0.019165803  - MSE:  16.66898235139457 - Test accuracy:  1.0\n",
            "epoch:  822  -  cost:  0.019125445  - MSE:  16.68963445235512 - Test accuracy:  1.0\n",
            "epoch:  823  -  cost:  0.019080603  - MSE:  16.699673838738438 - Test accuracy:  1.0\n",
            "epoch:  824  -  cost:  0.019049704  - MSE:  16.692330407030486 - Test accuracy:  1.0\n",
            "epoch:  825  -  cost:  0.019006353  - MSE:  16.70788264887946 - Test accuracy:  1.0\n",
            "epoch:  826  -  cost:  0.018966895  - MSE:  16.71040997673718 - Test accuracy:  1.0\n",
            "epoch:  827  -  cost:  0.018929226  - MSE:  16.71576260437366 - Test accuracy:  1.0\n",
            "epoch:  828  -  cost:  0.018891113  - MSE:  16.714230061028108 - Test accuracy:  1.0\n",
            "epoch:  829  -  cost:  0.01885959  - MSE:  16.730889448099934 - Test accuracy:  1.0\n",
            "epoch:  830  -  cost:  0.018822037  - MSE:  16.721899373813667 - Test accuracy:  1.0\n",
            "epoch:  831  -  cost:  0.018781956  - MSE:  16.738335360320495 - Test accuracy:  1.0\n",
            "epoch:  832  -  cost:  0.018739633  - MSE:  16.733138810163123 - Test accuracy:  1.0\n",
            "epoch:  833  -  cost:  0.018697388  - MSE:  16.758573522402852 - Test accuracy:  1.0\n",
            "epoch:  834  -  cost:  0.018665805  - MSE:  16.737701481459016 - Test accuracy:  1.0\n",
            "epoch:  835  -  cost:  0.018624095  - MSE:  16.75876420518721 - Test accuracy:  1.0\n",
            "epoch:  836  -  cost:  0.018587062  - MSE:  16.762110490115024 - Test accuracy:  1.0\n",
            "epoch:  837  -  cost:  0.018552175  - MSE:  16.768705279016363 - Test accuracy:  1.0\n",
            "epoch:  838  -  cost:  0.018514702  - MSE:  16.765052826364553 - Test accuracy:  1.0\n",
            "epoch:  839  -  cost:  0.018479265  - MSE:  16.781250302475545 - Test accuracy:  1.0\n",
            "epoch:  840  -  cost:  0.018436946  - MSE:  16.771896148460627 - Test accuracy:  1.0\n",
            "epoch:  841  -  cost:  0.018399268  - MSE:  16.781577579118455 - Test accuracy:  1.0\n",
            "epoch:  842  -  cost:  0.018361662  - MSE:  16.788127267646306 - Test accuracy:  1.0\n",
            "epoch:  843  -  cost:  0.018324714  - MSE:  16.811183350000594 - Test accuracy:  1.0\n"
          ],
          "name": "stdout"
        },
        {
          "output_type": "stream",
          "text": [
            "epoch:  844  -  cost:  0.01828821  - MSE:  16.783945635654266 - Test accuracy:  1.0\n",
            "epoch:  845  -  cost:  0.018247852  - MSE:  16.809160503975722 - Test accuracy:  1.0\n",
            "epoch:  846  -  cost:  0.018216807  - MSE:  16.807895832579703 - Test accuracy:  1.0\n",
            "epoch:  847  -  cost:  0.018176833  - MSE:  16.81722002722341 - Test accuracy:  1.0\n",
            "epoch:  848  -  cost:  0.018138621  - MSE:  16.813697287109534 - Test accuracy:  1.0\n",
            "epoch:  849  -  cost:  0.018112637  - MSE:  16.82714782676043 - Test accuracy:  1.0\n",
            "epoch:  850  -  cost:  0.018070215  - MSE:  16.83006304607379 - Test accuracy:  1.0\n",
            "epoch:  851  -  cost:  0.018036665  - MSE:  16.83477706928366 - Test accuracy:  1.0\n",
            "epoch:  852  -  cost:  0.017996904  - MSE:  16.841346132273333 - Test accuracy:  1.0\n",
            "epoch:  853  -  cost:  0.0179659  - MSE:  16.846191212895256 - Test accuracy:  1.0\n",
            "epoch:  854  -  cost:  0.017928539  - MSE:  16.830527641665725 - Test accuracy:  1.0\n",
            "epoch:  855  -  cost:  0.017887862  - MSE:  16.850708651621876 - Test accuracy:  1.0\n",
            "epoch:  856  -  cost:  0.017857572  - MSE:  16.862241544464275 - Test accuracy:  1.0\n",
            "epoch:  857  -  cost:  0.017822558  - MSE:  16.85669922497613 - Test accuracy:  1.0\n",
            "epoch:  858  -  cost:  0.017783085  - MSE:  16.869950946593754 - Test accuracy:  1.0\n",
            "epoch:  859  -  cost:  0.017751543  - MSE:  16.878102153245454 - Test accuracy:  1.0\n",
            "epoch:  860  -  cost:  0.017716708  - MSE:  16.87544129184543 - Test accuracy:  1.0\n",
            "epoch:  861  -  cost:  0.017679473  - MSE:  16.882596189741648 - Test accuracy:  1.0\n",
            "epoch:  862  -  cost:  0.017643094  - MSE:  16.89260304847763 - Test accuracy:  1.0\n",
            "epoch:  863  -  cost:  0.017612293  - MSE:  16.886566365417195 - Test accuracy:  1.0\n",
            "epoch:  864  -  cost:  0.017578604  - MSE:  16.899009139611863 - Test accuracy:  1.0\n",
            "epoch:  865  -  cost:  0.01754165  - MSE:  16.905354420679373 - Test accuracy:  1.0\n",
            "epoch:  866  -  cost:  0.017511718  - MSE:  16.899236843395435 - Test accuracy:  1.0\n",
            "epoch:  867  -  cost:  0.017475337  - MSE:  16.903736185947267 - Test accuracy:  1.0\n",
            "epoch:  868  -  cost:  0.01745135  - MSE:  16.927598879132443 - Test accuracy:  1.0\n",
            "epoch:  869  -  cost:  0.017418614  - MSE:  16.9027200146751 - Test accuracy:  1.0\n",
            "epoch:  870  -  cost:  0.017377626  - MSE:  16.926795209303208 - Test accuracy:  1.0\n",
            "epoch:  871  -  cost:  0.017342642  - MSE:  16.933514771609495 - Test accuracy:  1.0\n",
            "epoch:  872  -  cost:  0.017310416  - MSE:  16.941404268458758 - Test accuracy:  1.0\n",
            "epoch:  873  -  cost:  0.017276537  - MSE:  16.932329505599295 - Test accuracy:  1.0\n",
            "epoch:  874  -  cost:  0.017246082  - MSE:  16.95304689768481 - Test accuracy:  1.0\n",
            "epoch:  875  -  cost:  0.01721104  - MSE:  16.926881910348595 - Test accuracy:  1.0\n",
            "epoch:  876  -  cost:  0.017177803  - MSE:  16.948004724305704 - Test accuracy:  1.0\n",
            "epoch:  877  -  cost:  0.017143961  - MSE:  16.955658756641522 - Test accuracy:  1.0\n",
            "epoch:  878  -  cost:  0.017116323  - MSE:  16.96586335238547 - Test accuracy:  1.0\n",
            "epoch:  879  -  cost:  0.017077327  - MSE:  16.954661263054806 - Test accuracy:  1.0\n",
            "epoch:  880  -  cost:  0.01704503  - MSE:  16.979252110639326 - Test accuracy:  1.0\n",
            "epoch:  881  -  cost:  0.017014997  - MSE:  16.95943359185199 - Test accuracy:  1.0\n",
            "epoch:  882  -  cost:  0.016977146  - MSE:  16.97807396781483 - Test accuracy:  1.0\n",
            "epoch:  883  -  cost:  0.016942952  - MSE:  16.983973922525575 - Test accuracy:  1.0\n",
            "epoch:  884  -  cost:  0.016913591  - MSE:  16.98027222983886 - Test accuracy:  1.0\n",
            "epoch:  885  -  cost:  0.016884003  - MSE:  16.987557072166503 - Test accuracy:  1.0\n",
            "epoch:  886  -  cost:  0.016846718  - MSE:  16.998065632880692 - Test accuracy:  1.0\n",
            "epoch:  887  -  cost:  0.016820485  - MSE:  16.99119937065195 - Test accuracy:  1.0\n",
            "epoch:  888  -  cost:  0.016785355  - MSE:  16.999903818161567 - Test accuracy:  1.0\n",
            "epoch:  889  -  cost:  0.016754523  - MSE:  17.0132371499841 - Test accuracy:  1.0\n",
            "epoch:  890  -  cost:  0.016721103  - MSE:  17.007426492721855 - Test accuracy:  1.0\n",
            "epoch:  891  -  cost:  0.016691446  - MSE:  17.005342206744096 - Test accuracy:  1.0\n"
          ],
          "name": "stdout"
        },
        {
          "output_type": "stream",
          "text": [
            "epoch:  892  -  cost:  0.016661879  - MSE:  17.025429827715143 - Test accuracy:  1.0\n",
            "epoch:  893  -  cost:  0.016629558  - MSE:  17.006447181139603 - Test accuracy:  1.0\n",
            "epoch:  894  -  cost:  0.016597556  - MSE:  17.023270765166277 - Test accuracy:  1.0\n",
            "epoch:  895  -  cost:  0.016565185  - MSE:  17.032168959302197 - Test accuracy:  1.0\n",
            "epoch:  896  -  cost:  0.01654152  - MSE:  17.02812639922727 - Test accuracy:  1.0\n",
            "epoch:  897  -  cost:  0.0165094  - MSE:  17.027311452163726 - Test accuracy:  1.0\n",
            "epoch:  898  -  cost:  0.016473535  - MSE:  17.045431561169174 - Test accuracy:  1.0\n",
            "epoch:  899  -  cost:  0.01644758  - MSE:  17.041460771476864 - Test accuracy:  1.0\n",
            "epoch:  900  -  cost:  0.01641572  - MSE:  17.05063071364687 - Test accuracy:  1.0\n",
            "epoch:  901  -  cost:  0.016379803  - MSE:  17.052135965897822 - Test accuracy:  1.0\n",
            "epoch:  902  -  cost:  0.016356755  - MSE:  17.0610803231543 - Test accuracy:  1.0\n",
            "epoch:  903  -  cost:  0.01632683  - MSE:  17.051875848889328 - Test accuracy:  1.0\n",
            "epoch:  904  -  cost:  0.016288966  - MSE:  17.069448941315127 - Test accuracy:  1.0\n",
            "epoch:  905  -  cost:  0.01626336  - MSE:  17.06795017273449 - Test accuracy:  1.0\n",
            "epoch:  906  -  cost:  0.016232876  - MSE:  17.076314301544283 - Test accuracy:  1.0\n",
            "epoch:  907  -  cost:  0.016205637  - MSE:  17.077931839086084 - Test accuracy:  1.0\n",
            "epoch:  908  -  cost:  0.01617382  - MSE:  17.082305948706534 - Test accuracy:  1.0\n",
            "epoch:  909  -  cost:  0.016146934  - MSE:  17.08186814484718 - Test accuracy:  1.0\n",
            "epoch:  910  -  cost:  0.016118208  - MSE:  17.096898891450266 - Test accuracy:  1.0\n",
            "epoch:  911  -  cost:  0.016089426  - MSE:  17.085760209723738 - Test accuracy:  1.0\n",
            "epoch:  912  -  cost:  0.016059795  - MSE:  17.09932809917579 - Test accuracy:  1.0\n",
            "epoch:  913  -  cost:  0.016027445  - MSE:  17.092843916925663 - Test accuracy:  1.0\n",
            "epoch:  914  -  cost:  0.015994366  - MSE:  17.10188693044581 - Test accuracy:  1.0\n",
            "epoch:  915  -  cost:  0.015964922  - MSE:  17.1134016359613 - Test accuracy:  1.0\n",
            "epoch:  916  -  cost:  0.015935495  - MSE:  17.115615738045104 - Test accuracy:  1.0\n",
            "epoch:  917  -  cost:  0.015905242  - MSE:  17.11100378299259 - Test accuracy:  1.0\n",
            "epoch:  918  -  cost:  0.015874837  - MSE:  17.119756014631122 - Test accuracy:  1.0\n",
            "epoch:  919  -  cost:  0.01584754  - MSE:  17.130996146427748 - Test accuracy:  1.0\n",
            "epoch:  920  -  cost:  0.015817955  - MSE:  17.11514023304328 - Test accuracy:  1.0\n",
            "epoch:  921  -  cost:  0.015792886  - MSE:  17.131535332921597 - Test accuracy:  1.0\n",
            "epoch:  922  -  cost:  0.015766023  - MSE:  17.123648085065074 - Test accuracy:  1.0\n",
            "epoch:  923  -  cost:  0.015733171  - MSE:  17.135933354748804 - Test accuracy:  1.0\n",
            "epoch:  924  -  cost:  0.0157058  - MSE:  17.135554853746914 - Test accuracy:  1.0\n",
            "epoch:  925  -  cost:  0.015676856  - MSE:  17.152298282261473 - Test accuracy:  1.0\n",
            "epoch:  926  -  cost:  0.015644995  - MSE:  17.1397680844995 - Test accuracy:  1.0\n",
            "epoch:  927  -  cost:  0.0156158535  - MSE:  17.16176382338187 - Test accuracy:  1.0\n",
            "epoch:  928  -  cost:  0.015589706  - MSE:  17.15202738694772 - Test accuracy:  1.0\n",
            "epoch:  929  -  cost:  0.015563849  - MSE:  17.161208237691067 - Test accuracy:  1.0\n",
            "epoch:  930  -  cost:  0.01553232  - MSE:  17.154309403904783 - Test accuracy:  1.0\n",
            "epoch:  931  -  cost:  0.01550512  - MSE:  17.17675153860823 - Test accuracy:  1.0\n",
            "epoch:  932  -  cost:  0.0154791875  - MSE:  17.155634821809432 - Test accuracy:  1.0\n",
            "epoch:  933  -  cost:  0.015448179  - MSE:  17.178961361634553 - Test accuracy:  1.0\n",
            "epoch:  934  -  cost:  0.015424141  - MSE:  17.171476719683337 - Test accuracy:  1.0\n",
            "epoch:  935  -  cost:  0.015391101  - MSE:  17.181813732430562 - Test accuracy:  1.0\n",
            "epoch:  936  -  cost:  0.015363212  - MSE:  17.178783503488297 - Test accuracy:  1.0\n",
            "epoch:  937  -  cost:  0.015340017  - MSE:  17.196755830786596 - Test accuracy:  1.0\n",
            "epoch:  938  -  cost:  0.015312654  - MSE:  17.180611649489258 - Test accuracy:  1.0\n",
            "epoch:  939  -  cost:  0.015282275  - MSE:  17.196221222004937 - Test accuracy:  1.0\n"
          ],
          "name": "stdout"
        },
        {
          "output_type": "stream",
          "text": [
            "epoch:  940  -  cost:  0.015250491  - MSE:  17.194152107257693 - Test accuracy:  1.0\n",
            "epoch:  941  -  cost:  0.015227139  - MSE:  17.20447794360055 - Test accuracy:  1.0\n",
            "epoch:  942  -  cost:  0.015203384  - MSE:  17.19061027104282 - Test accuracy:  1.0\n",
            "epoch:  943  -  cost:  0.015170652  - MSE:  17.213939647843095 - Test accuracy:  1.0\n",
            "epoch:  944  -  cost:  0.0151442485  - MSE:  17.196883412060625 - Test accuracy:  1.0\n",
            "epoch:  945  -  cost:  0.015119715  - MSE:  17.221124043413983 - Test accuracy:  1.0\n",
            "epoch:  946  -  cost:  0.0150919305  - MSE:  17.213870842250046 - Test accuracy:  1.0\n",
            "epoch:  947  -  cost:  0.015065256  - MSE:  17.225805333456815 - Test accuracy:  1.0\n",
            "epoch:  948  -  cost:  0.01503642  - MSE:  17.2210903939362 - Test accuracy:  1.0\n",
            "epoch:  949  -  cost:  0.015013587  - MSE:  17.24472309596643 - Test accuracy:  1.0\n",
            "epoch:  950  -  cost:  0.014991786  - MSE:  17.22111469039143 - Test accuracy:  1.0\n",
            "epoch:  951  -  cost:  0.0149597945  - MSE:  17.249837496183023 - Test accuracy:  1.0\n",
            "epoch:  952  -  cost:  0.014932302  - MSE:  17.242789809197177 - Test accuracy:  1.0\n",
            "epoch:  953  -  cost:  0.014909137  - MSE:  17.25311934071513 - Test accuracy:  1.0\n",
            "epoch:  954  -  cost:  0.014876693  - MSE:  17.247477734249834 - Test accuracy:  1.0\n",
            "epoch:  955  -  cost:  0.01485183  - MSE:  17.270232417049357 - Test accuracy:  1.0\n",
            "epoch:  956  -  cost:  0.014825926  - MSE:  17.25297873474614 - Test accuracy:  1.0\n",
            "epoch:  957  -  cost:  0.01480259  - MSE:  17.27725799627574 - Test accuracy:  1.0\n",
            "epoch:  958  -  cost:  0.0147744985  - MSE:  17.270388521416667 - Test accuracy:  1.0\n",
            "epoch:  959  -  cost:  0.014752907  - MSE:  17.286738649787182 - Test accuracy:  1.0\n",
            "epoch:  960  -  cost:  0.014724202  - MSE:  17.274032863739723 - Test accuracy:  1.0\n",
            "epoch:  961  -  cost:  0.014702438  - MSE:  17.301890415275263 - Test accuracy:  1.0\n",
            "epoch:  962  -  cost:  0.01467267  - MSE:  17.280986684639437 - Test accuracy:  1.0\n",
            "epoch:  963  -  cost:  0.014645846  - MSE:  17.302957417927896 - Test accuracy:  1.0\n",
            "epoch:  964  -  cost:  0.014620741  - MSE:  17.30171315424649 - Test accuracy:  1.0\n",
            "epoch:  965  -  cost:  0.014594776  - MSE:  17.30966656273237 - Test accuracy:  1.0\n",
            "epoch:  966  -  cost:  0.014567438  - MSE:  17.306223148190682 - Test accuracy:  1.0\n",
            "epoch:  967  -  cost:  0.0145449685  - MSE:  17.33580533165238 - Test accuracy:  1.0\n",
            "epoch:  968  -  cost:  0.014522285  - MSE:  17.30545205365297 - Test accuracy:  1.0\n",
            "epoch:  969  -  cost:  0.014495572  - MSE:  17.339950613400614 - Test accuracy:  1.0\n",
            "epoch:  970  -  cost:  0.014476391  - MSE:  17.322835230085065 - Test accuracy:  1.0\n",
            "epoch:  971  -  cost:  0.01444808  - MSE:  17.346022538241836 - Test accuracy:  1.0\n",
            "epoch:  972  -  cost:  0.014417053  - MSE:  17.344884844975347 - Test accuracy:  1.0\n",
            "epoch:  973  -  cost:  0.014393492  - MSE:  17.355513846331686 - Test accuracy:  1.0\n",
            "epoch:  974  -  cost:  0.014367134  - MSE:  17.34953716121462 - Test accuracy:  1.0\n",
            "epoch:  975  -  cost:  0.014342039  - MSE:  17.368978769436104 - Test accuracy:  1.0\n",
            "epoch:  976  -  cost:  0.014320447  - MSE:  17.35963011468855 - Test accuracy:  1.0\n",
            "epoch:  977  -  cost:  0.014292854  - MSE:  17.383477448980955 - Test accuracy:  1.0\n",
            "epoch:  978  -  cost:  0.014268925  - MSE:  17.380886856674188 - Test accuracy:  1.0\n",
            "epoch:  979  -  cost:  0.014243421  - MSE:  17.38561690399729 - Test accuracy:  1.0\n",
            "epoch:  980  -  cost:  0.014219417  - MSE:  17.387969509971754 - Test accuracy:  1.0\n",
            "epoch:  981  -  cost:  0.014197942  - MSE:  17.408114031076146 - Test accuracy:  1.0\n",
            "epoch:  982  -  cost:  0.014176411  - MSE:  17.39319165101179 - Test accuracy:  1.0\n",
            "epoch:  983  -  cost:  0.014149533  - MSE:  17.41930561477746 - Test accuracy:  1.0\n",
            "epoch:  984  -  cost:  0.01412861  - MSE:  17.399459818891987 - Test accuracy:  1.0\n",
            "epoch:  985  -  cost:  0.014108367  - MSE:  17.429806904775646 - Test accuracy:  1.0\n",
            "epoch:  986  -  cost:  0.014085403  - MSE:  17.405676345057675 - Test accuracy:  1.0\n",
            "epoch:  987  -  cost:  0.014056552  - MSE:  17.438390182882102 - Test accuracy:  1.0\n"
          ],
          "name": "stdout"
        },
        {
          "output_type": "stream",
          "text": [
            "epoch:  988  -  cost:  0.014038185  - MSE:  17.434694298508482 - Test accuracy:  1.0\n",
            "epoch:  989  -  cost:  0.014017738  - MSE:  17.44879455376996 - Test accuracy:  1.0\n",
            "epoch:  990  -  cost:  0.013984966  - MSE:  17.439910976414474 - Test accuracy:  1.0\n",
            "epoch:  991  -  cost:  0.013963946  - MSE:  17.465286940337982 - Test accuracy:  1.0\n",
            "epoch:  992  -  cost:  0.013941893  - MSE:  17.44757801978885 - Test accuracy:  1.0\n",
            "epoch:  993  -  cost:  0.013913094  - MSE:  17.46921103256944 - Test accuracy:  1.0\n",
            "epoch:  994  -  cost:  0.013892571  - MSE:  17.470986168034994 - Test accuracy:  1.0\n",
            "epoch:  995  -  cost:  0.013867017  - MSE:  17.47779862471198 - Test accuracy:  1.0\n",
            "epoch:  996  -  cost:  0.013844305  - MSE:  17.481903791230625 - Test accuracy:  1.0\n",
            "epoch:  997  -  cost:  0.01382641  - MSE:  17.49983628631751 - Test accuracy:  1.0\n",
            "epoch:  998  -  cost:  0.013802151  - MSE:  17.484456268308804 - Test accuracy:  1.0\n",
            "epoch:  999  -  cost:  0.013778311  - MSE:  17.508304813029063 - Test accuracy:  1.0\n"
          ],
          "name": "stdout"
        },
        {
          "output_type": "error",
          "ename": "ValueError",
          "evalue": "ignored",
          "traceback": [
            "\u001b[0;31m---------------------------------------------------------------------------\u001b[0m",
            "\u001b[0;31mNotFoundError\u001b[0m                             Traceback (most recent call last)",
            "\u001b[0;32m/usr/local/lib/python3.6/dist-packages/tensorflow/python/client/session.py\u001b[0m in \u001b[0;36m_do_call\u001b[0;34m(self, fn, *args)\u001b[0m\n\u001b[1;32m   1326\u001b[0m     \u001b[0;32mtry\u001b[0m\u001b[0;34m:\u001b[0m\u001b[0;34m\u001b[0m\u001b[0m\n\u001b[0;32m-> 1327\u001b[0;31m       \u001b[0;32mreturn\u001b[0m \u001b[0mfn\u001b[0m\u001b[0;34m(\u001b[0m\u001b[0;34m*\u001b[0m\u001b[0margs\u001b[0m\u001b[0;34m)\u001b[0m\u001b[0;34m\u001b[0m\u001b[0m\n\u001b[0m\u001b[1;32m   1328\u001b[0m     \u001b[0;32mexcept\u001b[0m \u001b[0merrors\u001b[0m\u001b[0;34m.\u001b[0m\u001b[0mOpError\u001b[0m \u001b[0;32mas\u001b[0m \u001b[0me\u001b[0m\u001b[0;34m:\u001b[0m\u001b[0;34m\u001b[0m\u001b[0m\n",
            "\u001b[0;32m/usr/local/lib/python3.6/dist-packages/tensorflow/python/client/session.py\u001b[0m in \u001b[0;36m_run_fn\u001b[0;34m(feed_dict, fetch_list, target_list, options, run_metadata)\u001b[0m\n\u001b[1;32m   1311\u001b[0m       return self._call_tf_sessionrun(\n\u001b[0;32m-> 1312\u001b[0;31m           options, feed_dict, fetch_list, target_list, run_metadata)\n\u001b[0m\u001b[1;32m   1313\u001b[0m \u001b[0;34m\u001b[0m\u001b[0m\n",
            "\u001b[0;32m/usr/local/lib/python3.6/dist-packages/tensorflow/python/client/session.py\u001b[0m in \u001b[0;36m_call_tf_sessionrun\u001b[0;34m(self, options, feed_dict, fetch_list, target_list, run_metadata)\u001b[0m\n\u001b[1;32m   1419\u001b[0m             \u001b[0mself\u001b[0m\u001b[0;34m.\u001b[0m\u001b[0m_session\u001b[0m\u001b[0;34m,\u001b[0m \u001b[0moptions\u001b[0m\u001b[0;34m,\u001b[0m \u001b[0mfeed_dict\u001b[0m\u001b[0;34m,\u001b[0m \u001b[0mfetch_list\u001b[0m\u001b[0;34m,\u001b[0m \u001b[0mtarget_list\u001b[0m\u001b[0;34m,\u001b[0m\u001b[0;34m\u001b[0m\u001b[0m\n\u001b[0;32m-> 1420\u001b[0;31m             status, run_metadata)\n\u001b[0m\u001b[1;32m   1421\u001b[0m \u001b[0;34m\u001b[0m\u001b[0m\n",
            "\u001b[0;32m/usr/local/lib/python3.6/dist-packages/tensorflow/python/framework/errors_impl.py\u001b[0m in \u001b[0;36m__exit__\u001b[0;34m(self, type_arg, value_arg, traceback_arg)\u001b[0m\n\u001b[1;32m    515\u001b[0m             \u001b[0mcompat\u001b[0m\u001b[0;34m.\u001b[0m\u001b[0mas_text\u001b[0m\u001b[0;34m(\u001b[0m\u001b[0mc_api\u001b[0m\u001b[0;34m.\u001b[0m\u001b[0mTF_Message\u001b[0m\u001b[0;34m(\u001b[0m\u001b[0mself\u001b[0m\u001b[0;34m.\u001b[0m\u001b[0mstatus\u001b[0m\u001b[0;34m.\u001b[0m\u001b[0mstatus\u001b[0m\u001b[0;34m)\u001b[0m\u001b[0;34m)\u001b[0m\u001b[0;34m,\u001b[0m\u001b[0;34m\u001b[0m\u001b[0m\n\u001b[0;32m--> 516\u001b[0;31m             c_api.TF_GetCode(self.status.status))\n\u001b[0m\u001b[1;32m    517\u001b[0m     \u001b[0;31m# Delete the underlying status object from memory otherwise it stays alive\u001b[0m\u001b[0;34m\u001b[0m\u001b[0;34m\u001b[0m\u001b[0m\n",
            "\u001b[0;31mNotFoundError\u001b[0m: ; No such file or directory\n\t [[Node: save/SaveV2 = SaveV2[dtypes=[DT_FLOAT, DT_FLOAT, DT_FLOAT, DT_FLOAT, DT_FLOAT, DT_FLOAT, DT_FLOAT, DT_FLOAT, DT_FLOAT, DT_FLOAT, DT_FLOAT, DT_FLOAT], _device=\"/job:localhost/replica:0/task:0/device:CPU:0\"](_arg_save/Const_0_0, save/SaveV2/tensor_names, save/SaveV2/shape_and_slices, Variable/_8017, Variable_1/_8019, Variable_10/_8021, Variable_11/_8023, Variable_2/_8025, Variable_3/_8027, Variable_4/_8029, Variable_5/_8031, Variable_6/_8033, Variable_7/_8035, Variable_8/_8037, Variable_9/_8039)]]",
            "\nDuring handling of the above exception, another exception occurred:\n",
            "\u001b[0;31mNotFoundError\u001b[0m                             Traceback (most recent call last)",
            "\u001b[0;32m/usr/local/lib/python3.6/dist-packages/tensorflow/python/training/saver.py\u001b[0m in \u001b[0;36msave\u001b[0;34m(self, sess, save_path, global_step, latest_filename, meta_graph_suffix, write_meta_graph, write_state, strip_default_attrs)\u001b[0m\n\u001b[1;32m   1675\u001b[0m               \u001b[0mself\u001b[0m\u001b[0;34m.\u001b[0m\u001b[0msaver_def\u001b[0m\u001b[0;34m.\u001b[0m\u001b[0msave_tensor_name\u001b[0m\u001b[0;34m,\u001b[0m\u001b[0;34m\u001b[0m\u001b[0m\n\u001b[0;32m-> 1676\u001b[0;31m               {self.saver_def.filename_tensor_name: checkpoint_file})\n\u001b[0m\u001b[1;32m   1677\u001b[0m \u001b[0;34m\u001b[0m\u001b[0m\n",
            "\u001b[0;32m/usr/local/lib/python3.6/dist-packages/tensorflow/python/client/session.py\u001b[0m in \u001b[0;36mrun\u001b[0;34m(self, fetches, feed_dict, options, run_metadata)\u001b[0m\n\u001b[1;32m    904\u001b[0m       result = self._run(None, fetches, feed_dict, options_ptr,\n\u001b[0;32m--> 905\u001b[0;31m                          run_metadata_ptr)\n\u001b[0m\u001b[1;32m    906\u001b[0m       \u001b[0;32mif\u001b[0m \u001b[0mrun_metadata\u001b[0m\u001b[0;34m:\u001b[0m\u001b[0;34m\u001b[0m\u001b[0m\n",
            "\u001b[0;32m/usr/local/lib/python3.6/dist-packages/tensorflow/python/client/session.py\u001b[0m in \u001b[0;36m_run\u001b[0;34m(self, handle, fetches, feed_dict, options, run_metadata)\u001b[0m\n\u001b[1;32m   1139\u001b[0m       results = self._do_run(handle, final_targets, final_fetches,\n\u001b[0;32m-> 1140\u001b[0;31m                              feed_dict_tensor, options, run_metadata)\n\u001b[0m\u001b[1;32m   1141\u001b[0m     \u001b[0;32melse\u001b[0m\u001b[0;34m:\u001b[0m\u001b[0;34m\u001b[0m\u001b[0m\n",
            "\u001b[0;32m/usr/local/lib/python3.6/dist-packages/tensorflow/python/client/session.py\u001b[0m in \u001b[0;36m_do_run\u001b[0;34m(self, handle, target_list, fetch_list, feed_dict, options, run_metadata)\u001b[0m\n\u001b[1;32m   1320\u001b[0m       return self._do_call(_run_fn, feeds, fetches, targets, options,\n\u001b[0;32m-> 1321\u001b[0;31m                            run_metadata)\n\u001b[0m\u001b[1;32m   1322\u001b[0m     \u001b[0;32melse\u001b[0m\u001b[0;34m:\u001b[0m\u001b[0;34m\u001b[0m\u001b[0m\n",
            "\u001b[0;32m/usr/local/lib/python3.6/dist-packages/tensorflow/python/client/session.py\u001b[0m in \u001b[0;36m_do_call\u001b[0;34m(self, fn, *args)\u001b[0m\n\u001b[1;32m   1339\u001b[0m           \u001b[0;32mpass\u001b[0m\u001b[0;34m\u001b[0m\u001b[0m\n\u001b[0;32m-> 1340\u001b[0;31m       \u001b[0;32mraise\u001b[0m \u001b[0mtype\u001b[0m\u001b[0;34m(\u001b[0m\u001b[0me\u001b[0m\u001b[0;34m)\u001b[0m\u001b[0;34m(\u001b[0m\u001b[0mnode_def\u001b[0m\u001b[0;34m,\u001b[0m \u001b[0mop\u001b[0m\u001b[0;34m,\u001b[0m \u001b[0mmessage\u001b[0m\u001b[0;34m)\u001b[0m\u001b[0;34m\u001b[0m\u001b[0m\n\u001b[0m\u001b[1;32m   1341\u001b[0m \u001b[0;34m\u001b[0m\u001b[0m\n",
            "\u001b[0;31mNotFoundError\u001b[0m: ; No such file or directory\n\t [[Node: save/SaveV2 = SaveV2[dtypes=[DT_FLOAT, DT_FLOAT, DT_FLOAT, DT_FLOAT, DT_FLOAT, DT_FLOAT, DT_FLOAT, DT_FLOAT, DT_FLOAT, DT_FLOAT, DT_FLOAT, DT_FLOAT], _device=\"/job:localhost/replica:0/task:0/device:CPU:0\"](_arg_save/Const_0_0, save/SaveV2/tensor_names, save/SaveV2/shape_and_slices, Variable/_8017, Variable_1/_8019, Variable_10/_8021, Variable_11/_8023, Variable_2/_8025, Variable_3/_8027, Variable_4/_8029, Variable_5/_8031, Variable_6/_8033, Variable_7/_8035, Variable_8/_8037, Variable_9/_8039)]]\n\nCaused by op 'save/SaveV2', defined at:\n  File \"/usr/lib/python3.6/runpy.py\", line 193, in _run_module_as_main\n    \"__main__\", mod_spec)\n  File \"/usr/lib/python3.6/runpy.py\", line 85, in _run_code\n    exec(code, run_globals)\n  File \"/usr/local/lib/python3.6/dist-packages/ipykernel_launcher.py\", line 16, in <module>\n    app.launch_new_instance()\n  File \"/usr/local/lib/python3.6/dist-packages/traitlets/config/application.py\", line 658, in launch_instance\n    app.start()\n  File \"/usr/local/lib/python3.6/dist-packages/ipykernel/kernelapp.py\", line 477, in start\n    ioloop.IOLoop.instance().start()\n  File \"/usr/local/lib/python3.6/dist-packages/zmq/eventloop/ioloop.py\", line 177, in start\n    super(ZMQIOLoop, self).start()\n  File \"/usr/local/lib/python3.6/dist-packages/tornado/ioloop.py\", line 888, in start\n    handler_func(fd_obj, events)\n  File \"/usr/local/lib/python3.6/dist-packages/tornado/stack_context.py\", line 277, in null_wrapper\n    return fn(*args, **kwargs)\n  File \"/usr/local/lib/python3.6/dist-packages/zmq/eventloop/zmqstream.py\", line 440, in _handle_events\n    self._handle_recv()\n  File \"/usr/local/lib/python3.6/dist-packages/zmq/eventloop/zmqstream.py\", line 472, in _handle_recv\n    self._run_callback(callback, msg)\n  File \"/usr/local/lib/python3.6/dist-packages/zmq/eventloop/zmqstream.py\", line 414, in _run_callback\n    callback(*args, **kwargs)\n  File \"/usr/local/lib/python3.6/dist-packages/tornado/stack_context.py\", line 277, in null_wrapper\n    return fn(*args, **kwargs)\n  File \"/usr/local/lib/python3.6/dist-packages/ipykernel/kernelbase.py\", line 283, in dispatcher\n    return self.dispatch_shell(stream, msg)\n  File \"/usr/local/lib/python3.6/dist-packages/ipykernel/kernelbase.py\", line 235, in dispatch_shell\n    handler(stream, idents, msg)\n  File \"/usr/local/lib/python3.6/dist-packages/ipykernel/kernelbase.py\", line 399, in execute_request\n    user_expressions, allow_stdin)\n  File \"/usr/local/lib/python3.6/dist-packages/ipykernel/ipkernel.py\", line 196, in do_execute\n    res = shell.run_cell(code, store_history=store_history, silent=silent)\n  File \"/usr/local/lib/python3.6/dist-packages/ipykernel/zmqshell.py\", line 533, in run_cell\n    return super(ZMQInteractiveShell, self).run_cell(*args, **kwargs)\n  File \"/usr/local/lib/python3.6/dist-packages/IPython/core/interactiveshell.py\", line 2718, in run_cell\n    interactivity=interactivity, compiler=compiler, result=result)\n  File \"/usr/local/lib/python3.6/dist-packages/IPython/core/interactiveshell.py\", line 2822, in run_ast_nodes\n    if self.run_code(code, result):\n  File \"/usr/local/lib/python3.6/dist-packages/IPython/core/interactiveshell.py\", line 2882, in run_code\n    exec(code_obj, self.user_global_ns, self.user_ns)\n  File \"<ipython-input-16-9f687ce43886>\", line 3, in <module>\n    saver = tf.train.Saver()\n  File \"/usr/local/lib/python3.6/dist-packages/tensorflow/python/training/saver.py\", line 1311, in __init__\n    self.build()\n  File \"/usr/local/lib/python3.6/dist-packages/tensorflow/python/training/saver.py\", line 1320, in build\n    self._build(self._filename, build_save=True, build_restore=True)\n  File \"/usr/local/lib/python3.6/dist-packages/tensorflow/python/training/saver.py\", line 1357, in _build\n    build_save=build_save, build_restore=build_restore)\n  File \"/usr/local/lib/python3.6/dist-packages/tensorflow/python/training/saver.py\", line 806, in _build_internal\n    save_tensor = self._AddSaveOps(filename_tensor, saveables)\n  File \"/usr/local/lib/python3.6/dist-packages/tensorflow/python/training/saver.py\", line 326, in _AddSaveOps\n    save = self.save_op(filename_tensor, saveables)\n  File \"/usr/local/lib/python3.6/dist-packages/tensorflow/python/training/saver.py\", line 242, in save_op\n    tensors)\n  File \"/usr/local/lib/python3.6/dist-packages/tensorflow/python/ops/gen_io_ops.py\", line 1680, in save_v2\n    shape_and_slices=shape_and_slices, tensors=tensors, name=name)\n  File \"/usr/local/lib/python3.6/dist-packages/tensorflow/python/framework/op_def_library.py\", line 787, in _apply_op_helper\n    op_def=op_def)\n  File \"/usr/local/lib/python3.6/dist-packages/tensorflow/python/framework/ops.py\", line 3290, in create_op\n    op_def=op_def)\n  File \"/usr/local/lib/python3.6/dist-packages/tensorflow/python/framework/ops.py\", line 1654, in __init__\n    self._traceback = self._graph._extract_stack()  # pylint: disable=protected-access\n\nNotFoundError (see above for traceback): ; No such file or directory\n\t [[Node: save/SaveV2 = SaveV2[dtypes=[DT_FLOAT, DT_FLOAT, DT_FLOAT, DT_FLOAT, DT_FLOAT, DT_FLOAT, DT_FLOAT, DT_FLOAT, DT_FLOAT, DT_FLOAT, DT_FLOAT, DT_FLOAT], _device=\"/job:localhost/replica:0/task:0/device:CPU:0\"](_arg_save/Const_0_0, save/SaveV2/tensor_names, save/SaveV2/shape_and_slices, Variable/_8017, Variable_1/_8019, Variable_10/_8021, Variable_11/_8023, Variable_2/_8025, Variable_3/_8027, Variable_4/_8029, Variable_5/_8031, Variable_6/_8033, Variable_7/_8035, Variable_8/_8037, Variable_9/_8039)]]\n",
            "\nDuring handling of the above exception, another exception occurred:\n",
            "\u001b[0;31mValueError\u001b[0m                                Traceback (most recent call last)",
            "\u001b[0;32m<ipython-input-18-4aab656cc1de>\u001b[0m in \u001b[0;36m<module>\u001b[0;34m()\u001b[0m\n\u001b[1;32m     17\u001b[0m   \u001b[0mprint\u001b[0m\u001b[0;34m(\u001b[0m\u001b[0;34m'epoch: '\u001b[0m\u001b[0;34m,\u001b[0m \u001b[0mepoch\u001b[0m\u001b[0;34m,\u001b[0m \u001b[0;34m' - '\u001b[0m\u001b[0;34m,\u001b[0m \u001b[0;34m'cost: '\u001b[0m\u001b[0;34m,\u001b[0m \u001b[0mcost\u001b[0m\u001b[0;34m,\u001b[0m \u001b[0;34m' - MSE: '\u001b[0m\u001b[0;34m,\u001b[0m \u001b[0mmse_\u001b[0m\u001b[0;34m,\u001b[0m \u001b[0;34m'- Test accuracy: '\u001b[0m\u001b[0;34m,\u001b[0m \u001b[0maccuracy\u001b[0m\u001b[0;34m)\u001b[0m\u001b[0;34m\u001b[0m\u001b[0m\n\u001b[1;32m     18\u001b[0m \u001b[0;34m\u001b[0m\u001b[0m\n\u001b[0;32m---> 19\u001b[0;31m \u001b[0msave_path\u001b[0m \u001b[0;34m=\u001b[0m \u001b[0msaver\u001b[0m\u001b[0;34m.\u001b[0m\u001b[0msave\u001b[0m\u001b[0;34m(\u001b[0m\u001b[0msess\u001b[0m\u001b[0;34m,\u001b[0m \u001b[0;34m''\u001b[0m\u001b[0;34m)\u001b[0m\u001b[0;34m\u001b[0m\u001b[0m\n\u001b[0m\u001b[1;32m     20\u001b[0m \u001b[0mprint\u001b[0m\u001b[0;34m(\u001b[0m\u001b[0;34m'Model saved in file %s'\u001b[0m\u001b[0;34m%\u001b[0m\u001b[0msave_path\u001b[0m\u001b[0;34m)\u001b[0m\u001b[0;34m\u001b[0m\u001b[0m\n",
            "\u001b[0;32m/usr/local/lib/python3.6/dist-packages/tensorflow/python/training/saver.py\u001b[0m in \u001b[0;36msave\u001b[0;34m(self, sess, save_path, global_step, latest_filename, meta_graph_suffix, write_meta_graph, write_state, strip_default_attrs)\u001b[0m\n\u001b[1;32m   1691\u001b[0m               \"Parent directory of {} doesn't exist, can't save.\".format(\n\u001b[1;32m   1692\u001b[0m                   save_path))\n\u001b[0;32m-> 1693\u001b[0;31m         \u001b[0;32mraise\u001b[0m \u001b[0mexc\u001b[0m\u001b[0;34m\u001b[0m\u001b[0m\n\u001b[0m\u001b[1;32m   1694\u001b[0m \u001b[0;34m\u001b[0m\u001b[0m\n\u001b[1;32m   1695\u001b[0m     \u001b[0;32mif\u001b[0m \u001b[0mwrite_meta_graph\u001b[0m\u001b[0;34m:\u001b[0m\u001b[0;34m\u001b[0m\u001b[0m\n",
            "\u001b[0;31mValueError\u001b[0m: Parent directory of  doesn't exist, can't save."
          ]
        }
      ]
    },
    {
      "metadata": {
        "id": "7jnK2RENBpmF",
        "colab_type": "code",
        "colab": {
          "base_uri": "https://localhost:8080/",
          "height": 34
        },
        "outputId": "c918bd8b-27c2-40c0-dbdf-8e3f0cedf69b"
      },
      "cell_type": "code",
      "source": [
        "save_path = saver.save(sess, './')\n",
        "print('Model saved in file %s'%save_path)"
      ],
      "execution_count": 19,
      "outputs": [
        {
          "output_type": "stream",
          "text": [
            "Model saved in file ./\n"
          ],
          "name": "stdout"
        }
      ]
    },
    {
      "metadata": {
        "id": "1qYDZH3QBtgg",
        "colab_type": "code",
        "colab": {
          "base_uri": "https://localhost:8080/",
          "height": 34
        },
        "outputId": "ac64734e-b6bb-4d58-af4f-40088b49a01e"
      },
      "cell_type": "code",
      "source": [
        "!ls"
      ],
      "execution_count": 20,
      "outputs": [
        {
          "output_type": "stream",
          "text": [
            "checkpoint  datalab  sonar.all-data.csv\r\n"
          ],
          "name": "stdout"
        }
      ]
    },
    {
      "metadata": {
        "id": "UQ-SnR2w6whH",
        "colab_type": "code",
        "colab": {
          "base_uri": "https://localhost:8080/",
          "height": 265
        },
        "outputId": "d1416d3e-4ee0-4872-f88a-dff0a424e277"
      },
      "cell_type": "code",
      "source": [
        "plt.plot(mse_history, 'r')\n",
        "plt.show()"
      ],
      "execution_count": 21,
      "outputs": [
        {
          "output_type": "display_data",
          "data": {
            "image/png": "[encoded data removed]",
            "text/plain": [
              "<matplotlib.figure.Figure at 0x7f54181e35c0>"
            ]
          },
          "metadata": {
            "tags": []
          }
        }
      ]
    },
    {
      "metadata": {
        "id": "CB_Ru39v_0mv",
        "colab_type": "code",
        "colab": {
          "base_uri": "https://localhost:8080/",
          "height": 265
        },
        "outputId": "81760bf9-8423-4dc2-d201-2f7242498465"
      },
      "cell_type": "code",
      "source": [
        "plt.plot(accuracy_history)\n",
        "plt.show()"
      ],
      "execution_count": 22,
      "outputs": [
        {
          "output_type": "display_data",
          "data": {
            "image/png": "[encoded data removed]",
            "text/plain": [
              "<matplotlib.figure.Figure at 0x7f54182015f8>"
            ]
          },
          "metadata": {
            "tags": []
          }
        }
      ]
    },
    {
      "metadata": {
        "id": "269uv4jhA6H9",
        "colab_type": "code",
        "colab": {
          "base_uri": "https://localhost:8080/",
          "height": 34
        },
        "outputId": "a2b3fcf7-836a-484a-97bc-6830ae4417fd"
      },
      "cell_type": "code",
      "source": [
        "correct_prediction = tf.equal(tf.argmax(y, 1), tf.argmax(y_, 1))\n",
        "accuracy = tf.reduce_mean(tf.cast(correct_prediction, tf.float32))\n",
        "print('Test Accuracy: ', (sess.run(accuracy, feed_dict={x: test_x, y_: test_y})))"
      ],
      "execution_count": 26,
      "outputs": [
        {
          "output_type": "stream",
          "text": [
            "Test Accuracy:  0.9047619\n"
          ],
          "name": "stdout"
        }
      ]
    },
    {
      "metadata": {
        "id": "GjJDBYlSA5oX",
        "colab_type": "code",
        "colab": {
          "base_uri": "https://localhost:8080/",
          "height": 34
        },
        "outputId": "cc3f9765-0c74-463b-c53f-a95c3bcab3c0"
      },
      "cell_type": "code",
      "source": [
        "pred_y = sess.run(y, feed_dict={x: test_x})\n",
        "mse = tf.reduce_mean(tf.square(pred_y - test_y))\n",
        "print('MSE:%.4f'%sess.run(mse))"
      ],
      "execution_count": 29,
      "outputs": [
        {
          "output_type": "stream",
          "text": [
            "MSE:17.5083\n"
          ],
          "name": "stdout"
        }
      ]
    },
    {
      "metadata": {
        "id": "nf9iziKDA1pn",
        "colab_type": "code",
        "colab": {}
      },
      "cell_type": "code",
      "source": [
        ""
      ],
      "execution_count": 0,
      "outputs": []
    }
  ]
}
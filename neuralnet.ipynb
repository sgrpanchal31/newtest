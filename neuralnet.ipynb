{
  "nbformat": 4,
  "nbformat_minor": 0,
  "metadata": {
    "colab": {
      "name": "Untitled6.ipynb",
      "version": "0.3.2",
      "provenance": []
    },
    "kernelspec": {
      "name": "python3",
      "display_name": "Python 3"
    }
  },
  "cells": [
    {
      "metadata": {
        "id": "PvUZWpHnH2oX",
        "colab_type": "code",
        "colab": {}
      },
      "cell_type": "code",
      "source": [
        "import numpy as np\n"
      ],
      "execution_count": 0,
      "outputs": []
    },
    {
      "metadata": {
        "id": "DWdpvTdsIVQI",
        "colab_type": "code",
        "colab": {}
      },
      "cell_type": "code",
      "source": [
        "# Step 1 Collect Data# Step 1 \n",
        "x = np.array([[0,0,1],\n",
        "            [0,1,1],\n",
        "            [1,0,1],\n",
        "            [1,1,1]])\n",
        "                \n",
        "y = np.array([[0],\n",
        "            [1],\n",
        "            [1],\n",
        "            [0]])"
      ],
      "execution_count": 0,
      "outputs": []
    },
    {
      "metadata": {
        "id": "9fJwjOltIbG9",
        "colab_type": "code",
        "colab": {}
      },
      "cell_type": "code",
      "source": [
        "#Step 2 build model\n",
        "\n",
        "num_epochs = 60000\n",
        "\n",
        "#initialize weights\n",
        "syn0 = 2*np.random.random((3,4)) - 1\n",
        "syn1 = 2*np.random.random((4,1)) - 1"
      ],
      "execution_count": 0,
      "outputs": []
    },
    {
      "metadata": {
        "id": "Rs4-UqDvIgNM",
        "colab_type": "code",
        "colab": {}
      },
      "cell_type": "code",
      "source": [
        "def nonlin(x,deriv=False):\n",
        "    if(deriv==True):\n",
        "        return x*(1-x)\n",
        "\n",
        "    return 1/(1+np.exp(-x))"
      ],
      "execution_count": 0,
      "outputs": []
    },
    {
      "metadata": {
        "id": "CTmIMlNCIjCB",
        "colab_type": "code",
        "colab": {
          "base_uri": "https://localhost:8080/",
          "height": 119
        },
        "outputId": "9034ed29-822f-4abc-85a4-bb070c9aae0b"
      },
      "cell_type": "code",
      "source": [
        "\n",
        "#Step 3 Train Model#Step 3  \n",
        "\n",
        "for j in range(num_epochs):\n",
        "    #feed forward through layers 0,1, and 2\n",
        "    k0 = x\n",
        "    k1 = nonlin(np.dot(k0, syn0))\n",
        "    k2 = nonlin(np.dot(k1, syn1))\n",
        "    \n",
        "    #how much did we miss the target value?\n",
        "    k2_error = y - k2\n",
        "    \n",
        "    if (j% 10000) == 0:\n",
        "        print (\"Error:\" + str(np.mean(np.abs(k2_error))))\n",
        "    \n",
        "    #in what direction is the target value?\n",
        "    k2_delta = k2_error*nonlin(k2, deriv=True)\n",
        "    \n",
        "    #how much did each k1 value contribute to k2 error\n",
        "    k1_error = k2_delta.dot(syn1.T)\n",
        "    \n",
        "    k1_delta= k1_error * nonlin(k1,deriv=True)\n",
        "    \n",
        "    syn1 += k1.T.dot(k2_delta)\n",
        "    syn0 += k0.T.dot(k1_delta)"
      ],
      "execution_count": 23,
      "outputs": [
        {
          "output_type": "stream",
          "text": [
            "Error:0.4999947883233566\n",
            "Error:0.008952075125130136\n",
            "Error:0.005953161947266108\n",
            "Error:0.004743508958080531\n",
            "Error:0.004050859468936987\n",
            "Error:0.003589275043054234\n"
          ],
          "name": "stdout"
        }
      ]
    }
  ]
}